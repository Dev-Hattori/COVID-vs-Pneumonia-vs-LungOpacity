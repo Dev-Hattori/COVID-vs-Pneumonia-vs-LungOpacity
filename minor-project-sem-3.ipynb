{
 "cells": [
  {
   "cell_type": "markdown",
   "id": "90ca10e8",
   "metadata": {
    "_cell_guid": "caab1e5e-e5fe-45af-b68c-a2d61d74b3bf",
    "_uuid": "b60cec9f-78b4-4428-84e7-1adce3786e98",
    "papermill": {
     "duration": 0.020839,
     "end_time": "2022-01-09T20:04:04.812168",
     "exception": false,
     "start_time": "2022-01-09T20:04:04.791329",
     "status": "completed"
    },
    "tags": []
   },
   "source": [
    "# Imports\n",
    "## Importing Libraries"
   ]
  },
  {
   "cell_type": "code",
   "execution_count": 1,
   "id": "1cc2f7e3",
   "metadata": {
    "_cell_guid": "69e6d893-8f5c-49e4-bd2b-973346139be2",
    "_uuid": "01832edd-3a72-4dbd-88e3-34428fac60db",
    "collapsed": false,
    "execution": {
     "iopub.execute_input": "2022-01-09T20:04:04.861293Z",
     "iopub.status.busy": "2022-01-09T20:04:04.859341Z",
     "iopub.status.idle": "2022-01-09T20:04:41.251415Z",
     "shell.execute_reply": "2022-01-09T20:04:41.252405Z",
     "shell.execute_reply.started": "2022-01-09T19:51:30.274036Z"
    },
    "jupyter": {
     "outputs_hidden": false
    },
    "papermill": {
     "duration": 36.418421,
     "end_time": "2022-01-09T20:04:41.252825",
     "exception": false,
     "start_time": "2022-01-09T20:04:04.834404",
     "status": "completed"
    },
    "tags": []
   },
   "outputs": [
    {
     "name": "stdout",
     "output_type": "stream",
     "text": [
      "Requirement already satisfied: pyyaml in /opt/conda/lib/python3.7/site-packages (6.0)\r\n",
      "Requirement already satisfied: h5py in /opt/conda/lib/python3.7/site-packages (3.1.0)\r\n",
      "Requirement already satisfied: cached-property in /opt/conda/lib/python3.7/site-packages (from h5py) (1.5.2)\r\n",
      "Requirement already satisfied: numpy>=1.14.5 in /opt/conda/lib/python3.7/site-packages (from h5py) (1.19.5)\r\n",
      "\u001b[33mWARNING: Running pip as the 'root' user can result in broken permissions and conflicting behaviour with the system package manager. It is recommended to use a virtual environment instead: https://pip.pypa.io/warnings/venv\u001b[0m\r\n",
      "Imports complete\n"
     ]
    }
   ],
   "source": [
    "import numpy as np\n",
    "import pandas as pd\n",
    "import matplotlib.pyplot as plt\n",
    "from matplotlib.pyplot import imread\n",
    "import cv2\n",
    "import h5py\n",
    "\n",
    "import tensorflow as tf\n",
    "\n",
    "import os\n",
    "\n",
    "! pip install pyyaml h5py  # Required to save models in HDF5 format\n",
    "\n",
    "print(\"Imports complete\")"
   ]
  },
  {
   "cell_type": "markdown",
   "id": "ddc929e1",
   "metadata": {
    "_cell_guid": "613f6f6b-85b6-476a-830c-d934f341c7f5",
    "_uuid": "541b9e0b-1a66-403f-9526-1af6e8941c74",
    "papermill": {
     "duration": 0.019634,
     "end_time": "2022-01-09T20:04:41.294753",
     "exception": false,
     "start_time": "2022-01-09T20:04:41.275119",
     "status": "completed"
    },
    "tags": []
   },
   "source": [
    "## Loading the dataset"
   ]
  },
  {
   "cell_type": "code",
   "execution_count": 2,
   "id": "3384013c",
   "metadata": {
    "_cell_guid": "122654f8-111d-4539-af2a-aa0fe01df8c3",
    "_uuid": "65afeca0-f249-46a4-8d3c-edb40113a174",
    "collapsed": false,
    "execution": {
     "iopub.execute_input": "2022-01-09T20:04:41.344925Z",
     "iopub.status.busy": "2022-01-09T20:04:41.343880Z",
     "iopub.status.idle": "2022-01-09T20:05:00.505688Z",
     "shell.execute_reply": "2022-01-09T20:05:00.507075Z",
     "shell.execute_reply.started": "2022-01-09T19:51:57.317030Z"
    },
    "jupyter": {
     "outputs_hidden": false
    },
    "papermill": {
     "duration": 19.192628,
     "end_time": "2022-01-09T20:05:00.507363",
     "exception": false,
     "start_time": "2022-01-09T20:04:41.314735",
     "status": "completed"
    },
    "tags": []
   },
   "outputs": [
    {
     "name": "stdout",
     "output_type": "stream",
     "text": [
      "Found 21165 files belonging to 4 classes.\n",
      "Using 16932 files for training.\n"
     ]
    },
    {
     "name": "stderr",
     "output_type": "stream",
     "text": [
      "2022-01-09 20:04:53.428304: I tensorflow/stream_executor/cuda/cuda_gpu_executor.cc:937] successful NUMA node read from SysFS had negative value (-1), but there must be at least one NUMA node, so returning NUMA node zero\n",
      "2022-01-09 20:04:53.539933: I tensorflow/stream_executor/cuda/cuda_gpu_executor.cc:937] successful NUMA node read from SysFS had negative value (-1), but there must be at least one NUMA node, so returning NUMA node zero\n",
      "2022-01-09 20:04:53.540956: I tensorflow/stream_executor/cuda/cuda_gpu_executor.cc:937] successful NUMA node read from SysFS had negative value (-1), but there must be at least one NUMA node, so returning NUMA node zero\n",
      "2022-01-09 20:04:53.544013: I tensorflow/core/platform/cpu_feature_guard.cc:142] This TensorFlow binary is optimized with oneAPI Deep Neural Network Library (oneDNN) to use the following CPU instructions in performance-critical operations:  AVX2 FMA\n",
      "To enable them in other operations, rebuild TensorFlow with the appropriate compiler flags.\n",
      "2022-01-09 20:04:53.545053: I tensorflow/stream_executor/cuda/cuda_gpu_executor.cc:937] successful NUMA node read from SysFS had negative value (-1), but there must be at least one NUMA node, so returning NUMA node zero\n",
      "2022-01-09 20:04:53.546103: I tensorflow/stream_executor/cuda/cuda_gpu_executor.cc:937] successful NUMA node read from SysFS had negative value (-1), but there must be at least one NUMA node, so returning NUMA node zero\n",
      "2022-01-09 20:04:53.547142: I tensorflow/stream_executor/cuda/cuda_gpu_executor.cc:937] successful NUMA node read from SysFS had negative value (-1), but there must be at least one NUMA node, so returning NUMA node zero\n",
      "2022-01-09 20:04:55.725199: I tensorflow/stream_executor/cuda/cuda_gpu_executor.cc:937] successful NUMA node read from SysFS had negative value (-1), but there must be at least one NUMA node, so returning NUMA node zero\n",
      "2022-01-09 20:04:55.726424: I tensorflow/stream_executor/cuda/cuda_gpu_executor.cc:937] successful NUMA node read from SysFS had negative value (-1), but there must be at least one NUMA node, so returning NUMA node zero\n",
      "2022-01-09 20:04:55.727483: I tensorflow/stream_executor/cuda/cuda_gpu_executor.cc:937] successful NUMA node read from SysFS had negative value (-1), but there must be at least one NUMA node, so returning NUMA node zero\n",
      "2022-01-09 20:04:55.728410: I tensorflow/core/common_runtime/gpu/gpu_device.cc:1510] Created device /job:localhost/replica:0/task:0/device:GPU:0 with 15403 MB memory:  -> device: 0, name: Tesla P100-PCIE-16GB, pci bus id: 0000:00:04.0, compute capability: 6.0\n"
     ]
    },
    {
     "name": "stdout",
     "output_type": "stream",
     "text": [
      "Found 21165 files belonging to 4 classes.\n",
      "Using 4233 files for validation.\n"
     ]
    }
   ],
   "source": [
    "dir = \"../input/covid19-radiography-database/COVID-19_Radiography_Dataset\"\n",
    "\n",
    "train_ds = tf.keras.preprocessing.image_dataset_from_directory(\n",
    "    dir, labels = \"inferred\", label_mode = \"int\", \n",
    "    color_mode = \"rgb\", batch_size = 32, image_size = (224, 224), \n",
    "    shuffle = True, seed = 42, validation_split = 0.2, subset = \"training\", interpolation = \"bicubic\")\n",
    "\n",
    "val_ds = tf.keras.preprocessing.image_dataset_from_directory(\n",
    "    dir, labels = \"inferred\", label_mode = \"int\", \n",
    "    color_mode = \"rgb\", batch_size = 32, image_size = (224, 224), \n",
    "    shuffle = True, seed = 42, validation_split = 0.2, subset = \"validation\", interpolation = \"bicubic\")"
   ]
  },
  {
   "cell_type": "code",
   "execution_count": 3,
   "id": "010d9347",
   "metadata": {
    "_cell_guid": "10ad8710-21f1-41cb-bd08-d5765ad0fcb8",
    "_uuid": "649bd2f7-328b-458e-a22d-17566338fc4a",
    "collapsed": false,
    "execution": {
     "iopub.execute_input": "2022-01-09T20:05:00.592833Z",
     "iopub.status.busy": "2022-01-09T20:05:00.590967Z",
     "iopub.status.idle": "2022-01-09T20:05:00.596263Z",
     "shell.execute_reply": "2022-01-09T20:05:00.591800Z",
     "shell.execute_reply.started": "2022-01-09T19:52:03.880216Z"
    },
    "jupyter": {
     "outputs_hidden": false
    },
    "papermill": {
     "duration": 0.05281,
     "end_time": "2022-01-09T20:05:00.596687",
     "exception": false,
     "start_time": "2022-01-09T20:05:00.543877",
     "status": "completed"
    },
    "tags": []
   },
   "outputs": [
    {
     "name": "stdout",
     "output_type": "stream",
     "text": [
      "['COVID', 'Lung_Opacity', 'Normal', 'Viral Pneumonia']\n"
     ]
    }
   ],
   "source": [
    "class_names = train_ds.class_names\n",
    "print(class_names)"
   ]
  },
  {
   "cell_type": "markdown",
   "id": "0f670328",
   "metadata": {
    "_cell_guid": "d64c6b12-4b17-48c5-9847-82ef6a62594f",
    "_uuid": "6ab5f8eb-2675-465f-aace-00419aad3711",
    "papermill": {
     "duration": 0.046317,
     "end_time": "2022-01-09T20:05:00.684702",
     "exception": false,
     "start_time": "2022-01-09T20:05:00.638385",
     "status": "completed"
    },
    "tags": []
   },
   "source": [
    "### Preparing the dataset\n",
    "- *One-Hot Encoding* the labels\n",
    "- *Normalizing* the input images"
   ]
  },
  {
   "cell_type": "code",
   "execution_count": 4,
   "id": "c8bde57a",
   "metadata": {
    "_cell_guid": "d73fd3bd-cbaf-4cae-9332-180919b62c26",
    "_uuid": "a03745d7-4486-405d-a583-d3e1d0c8b7a8",
    "collapsed": false,
    "execution": {
     "iopub.execute_input": "2022-01-09T20:05:00.743990Z",
     "iopub.status.busy": "2022-01-09T20:05:00.742760Z",
     "iopub.status.idle": "2022-01-09T20:05:00.863259Z",
     "shell.execute_reply": "2022-01-09T20:05:00.863758Z",
     "shell.execute_reply.started": "2022-01-09T19:52:03.888394Z"
    },
    "jupyter": {
     "outputs_hidden": false
    },
    "papermill": {
     "duration": 0.154557,
     "end_time": "2022-01-09T20:05:00.863991",
     "exception": false,
     "start_time": "2022-01-09T20:05:00.709434",
     "status": "completed"
    },
    "tags": []
   },
   "outputs": [],
   "source": [
    "#One hot encoding\n",
    "train_ds = train_ds.map(lambda x, y : (x, tf.one_hot(y, depth = 4)))\n",
    "val_ds = val_ds.map(lambda x, y : (x, tf.one_hot(y,depth = 4)))\n",
    "\n",
    "#Normalization\n",
    "normalization_layer = tf.keras.layers.experimental.preprocessing.Rescaling(1./255)\n",
    "train_ds = train_ds.map(lambda x, y: (normalization_layer(x), y))\n",
    "val_ds = val_ds.map(lambda x, y: (normalization_layer(x), y))"
   ]
  },
  {
   "cell_type": "markdown",
   "id": "6e9dfa02",
   "metadata": {
    "_cell_guid": "09f5b9aa-3381-448d-86d5-b0fb19f05470",
    "_uuid": "06a83c9c-8d0c-4407-92eb-0c6ddcea73b5",
    "papermill": {
     "duration": 0.020987,
     "end_time": "2022-01-09T20:05:00.907054",
     "exception": false,
     "start_time": "2022-01-09T20:05:00.886067",
     "status": "completed"
    },
    "tags": []
   },
   "source": [
    "### Optimizing the dataset"
   ]
  },
  {
   "cell_type": "code",
   "execution_count": 5,
   "id": "64eceec9",
   "metadata": {
    "_cell_guid": "1bd9d0cb-4962-4a89-82e2-4b5d75f219c7",
    "_uuid": "fe6a60d7-ba12-48b9-b71b-22cd12014e6d",
    "collapsed": false,
    "execution": {
     "iopub.execute_input": "2022-01-09T20:05:00.958333Z",
     "iopub.status.busy": "2022-01-09T20:05:00.957430Z",
     "iopub.status.idle": "2022-01-09T20:05:00.961337Z",
     "shell.execute_reply": "2022-01-09T20:05:00.961864Z",
     "shell.execute_reply.started": "2022-01-09T19:52:03.924588Z"
    },
    "jupyter": {
     "outputs_hidden": false
    },
    "papermill": {
     "duration": 0.033303,
     "end_time": "2022-01-09T20:05:00.962011",
     "exception": false,
     "start_time": "2022-01-09T20:05:00.928708",
     "status": "completed"
    },
    "tags": []
   },
   "outputs": [
    {
     "data": {
      "text/plain": [
       "'\\ndef configure_for_performance(ds):\\n    ds = ds.cache()\\n    ds = ds.prefetch(buffer_size=tf.data.AUTOTUNE)\\n    return ds\\n'"
      ]
     },
     "execution_count": 5,
     "metadata": {},
     "output_type": "execute_result"
    }
   ],
   "source": [
    "\"\"\"\n",
    "def configure_for_performance(ds):\n",
    "    ds = ds.cache()\n",
    "    ds = ds.prefetch(buffer_size=tf.data.AUTOTUNE)\n",
    "    return ds\n",
    "\"\"\""
   ]
  },
  {
   "cell_type": "code",
   "execution_count": 6,
   "id": "02baef48",
   "metadata": {
    "_cell_guid": "00c562a2-3c6c-41c9-93ca-9b4ee7d18f57",
    "_uuid": "cd05cd14-1246-4851-80eb-84661d2bf704",
    "collapsed": false,
    "execution": {
     "iopub.execute_input": "2022-01-09T20:05:01.011946Z",
     "iopub.status.busy": "2022-01-09T20:05:01.011066Z",
     "iopub.status.idle": "2022-01-09T20:05:01.014542Z",
     "shell.execute_reply": "2022-01-09T20:05:01.015090Z",
     "shell.execute_reply.started": "2022-01-09T19:52:03.931922Z"
    },
    "jupyter": {
     "outputs_hidden": false
    },
    "papermill": {
     "duration": 0.031258,
     "end_time": "2022-01-09T20:05:01.015231",
     "exception": false,
     "start_time": "2022-01-09T20:05:00.983973",
     "status": "completed"
    },
    "tags": []
   },
   "outputs": [
    {
     "data": {
      "text/plain": [
       "'\\ntrain_ds = configure_for_performance(train_ds)\\nval_ds = configure_for_performance(val_ds)\\n'"
      ]
     },
     "execution_count": 6,
     "metadata": {},
     "output_type": "execute_result"
    }
   ],
   "source": [
    "\"\"\"\n",
    "train_ds = configure_for_performance(train_ds)\n",
    "val_ds = configure_for_performance(val_ds)\n",
    "\"\"\""
   ]
  },
  {
   "cell_type": "markdown",
   "id": "415860c1",
   "metadata": {
    "_cell_guid": "445efb14-452e-49a6-92ea-39523e0e3916",
    "_uuid": "bfae707c-a70c-4568-8630-77d85b051914",
    "papermill": {
     "duration": 0.022679,
     "end_time": "2022-01-09T20:05:01.060127",
     "exception": false,
     "start_time": "2022-01-09T20:05:01.037448",
     "status": "completed"
    },
    "tags": []
   },
   "source": [
    "# Data Augmentation\n",
    "The paper: [The Effectiveness of Image Augmentation in Deep Learning Networks for Detecting COVID-19: A Geometric Transformation Perspective](https://www.frontiersin.org/articles/10.3389/fmed.2021.629134/full) reveals that geometric augmentation won't be of much help in classification of COVID-19 and non-COVID-19 viral pneumonia."
   ]
  },
  {
   "cell_type": "code",
   "execution_count": null,
   "id": "2638634a",
   "metadata": {
    "_cell_guid": "675c11b8-0251-4973-8ac9-b3d6fe74278c",
    "_uuid": "9c3f24cc-5987-43b0-8d75-6fcebf1d2f51",
    "collapsed": false,
    "jupyter": {
     "outputs_hidden": false
    },
    "papermill": {
     "duration": 0.022163,
     "end_time": "2022-01-09T20:05:01.104371",
     "exception": false,
     "start_time": "2022-01-09T20:05:01.082208",
     "status": "completed"
    },
    "tags": []
   },
   "outputs": [],
   "source": []
  },
  {
   "cell_type": "markdown",
   "id": "56c5b507",
   "metadata": {
    "_cell_guid": "a1162075-ec5b-4e55-9877-703476b51b41",
    "_uuid": "7be2839f-c270-4016-a4ff-c36c93290b00",
    "papermill": {
     "duration": 0.021465,
     "end_time": "2022-01-09T20:05:01.148414",
     "exception": false,
     "start_time": "2022-01-09T20:05:01.126949",
     "status": "completed"
    },
    "tags": []
   },
   "source": [
    "# The Models"
   ]
  },
  {
   "cell_type": "markdown",
   "id": "93510be1",
   "metadata": {
    "_cell_guid": "20f7cd0a-8dc7-4f88-83bc-c8566ecbc345",
    "_uuid": "6e95cf8d-95e9-4e3a-bea4-b877cfea13e5",
    "papermill": {
     "duration": 0.023148,
     "end_time": "2022-01-09T20:05:01.193258",
     "exception": false,
     "start_time": "2022-01-09T20:05:01.170110",
     "status": "completed"
    },
    "tags": []
   },
   "source": [
    "# A very basic *ConvNet*\n",
    "Similar to *LeNet-5* architecture"
   ]
  },
  {
   "cell_type": "code",
   "execution_count": 7,
   "id": "4d035f88",
   "metadata": {
    "_cell_guid": "d2928887-87e5-4df5-9603-3314be7566de",
    "_uuid": "79b2cb9c-0139-478d-b1e5-ecbd8dda4f75",
    "collapsed": false,
    "execution": {
     "iopub.execute_input": "2022-01-09T20:05:01.248104Z",
     "iopub.status.busy": "2022-01-09T20:05:01.247059Z",
     "iopub.status.idle": "2022-01-09T20:05:01.250191Z",
     "shell.execute_reply": "2022-01-09T20:05:01.249643Z",
     "shell.execute_reply.started": "2022-01-09T19:52:03.943620Z"
    },
    "jupyter": {
     "outputs_hidden": false
    },
    "papermill": {
     "duration": 0.035098,
     "end_time": "2022-01-09T20:05:01.250338",
     "exception": false,
     "start_time": "2022-01-09T20:05:01.215240",
     "status": "completed"
    },
    "tags": []
   },
   "outputs": [],
   "source": [
    "def convolutional_model(input_shape):\n",
    "    \n",
    "    input_img = tf.keras.Input(shape=input_shape)\n",
    "    \n",
    "    Z1 = tf.keras.layers.Conv2D( filters = 8, kernel_size = 4, strides = ( 1, 1 ), padding = 'SAME' )(input_img)\n",
    "    \n",
    "    A1 = tf.keras.layers.ReLU( )(Z1)\n",
    "    \n",
    "    P1 = tf.keras.layers.MaxPool2D( pool_size = ( 8, 8 ), strides = ( 8, 8 ), padding = 'same' )(A1)\n",
    "    \n",
    "    Z2 = tf.keras.layers.Conv2D( filters = 16, kernel_size = 2, strides = ( 1, 1 ), padding = 'same' )(P1)\n",
    "    \n",
    "    A2 = tf.keras.layers.ReLU()(Z2)\n",
    "    \n",
    "    P2 = tf.keras.layers.MaxPool2D( pool_size = (4, 4), strides = (4, 4), padding = 'same' )(A2)\n",
    "    \n",
    "    F = tf.keras.layers.Flatten()(P2)\n",
    "    \n",
    "    outputs = tf.keras.layers.Dense(units = 4, activation = \"softmax\")(F)\n",
    "    \n",
    "    model = tf.keras.Model(inputs=input_img, outputs=outputs)\n",
    "    return model"
   ]
  },
  {
   "cell_type": "code",
   "execution_count": 8,
   "id": "f729eac7",
   "metadata": {
    "_cell_guid": "68fe2ad1-ad6e-4051-a3db-5a6e105c6f87",
    "_uuid": "f73c15d4-ea8f-4c10-9698-a6b4a54c33f0",
    "collapsed": false,
    "execution": {
     "iopub.execute_input": "2022-01-09T20:05:01.299449Z",
     "iopub.status.busy": "2022-01-09T20:05:01.298336Z",
     "iopub.status.idle": "2022-01-09T20:05:01.304775Z",
     "shell.execute_reply": "2022-01-09T20:05:01.304236Z",
     "shell.execute_reply.started": "2022-01-09T19:52:03.955954Z"
    },
    "jupyter": {
     "outputs_hidden": false
    },
    "papermill": {
     "duration": 0.032149,
     "end_time": "2022-01-09T20:05:01.304935",
     "exception": false,
     "start_time": "2022-01-09T20:05:01.272786",
     "status": "completed"
    },
    "tags": []
   },
   "outputs": [],
   "source": [
    "checkpoint_path = 'training/conv/conv_cp.ckpt'\n",
    "checkpoint_dir = os.path.dirname(checkpoint_path)\n",
    "\n",
    "cp_callback = tf.keras.callbacks.ModelCheckpoint(checkpoint_path,\n",
    "                                                save_weights_only=False,\n",
    "                                                save_freq ='epoch',\n",
    "                                                verbose=1)"
   ]
  },
  {
   "cell_type": "code",
   "execution_count": 9,
   "id": "71a85d8f",
   "metadata": {
    "_cell_guid": "0d673e84-aec8-46b2-a45f-d20322742741",
    "_uuid": "e54f208f-d63a-4555-844a-96b1cd5fa249",
    "collapsed": false,
    "execution": {
     "iopub.execute_input": "2022-01-09T20:05:01.366410Z",
     "iopub.status.busy": "2022-01-09T20:05:01.365306Z",
     "iopub.status.idle": "2022-01-09T20:05:01.459906Z",
     "shell.execute_reply": "2022-01-09T20:05:01.459293Z",
     "shell.execute_reply.started": "2022-01-09T19:52:03.966513Z"
    },
    "jupyter": {
     "outputs_hidden": false
    },
    "papermill": {
     "duration": 0.132773,
     "end_time": "2022-01-09T20:05:01.460069",
     "exception": false,
     "start_time": "2022-01-09T20:05:01.327296",
     "status": "completed"
    },
    "tags": []
   },
   "outputs": [
    {
     "name": "stdout",
     "output_type": "stream",
     "text": [
      "Model: \"model\"\n",
      "_________________________________________________________________\n",
      "Layer (type)                 Output Shape              Param #   \n",
      "=================================================================\n",
      "input_1 (InputLayer)         [(None, 224, 224, 3)]     0         \n",
      "_________________________________________________________________\n",
      "conv2d (Conv2D)              (None, 224, 224, 8)       392       \n",
      "_________________________________________________________________\n",
      "re_lu (ReLU)                 (None, 224, 224, 8)       0         \n",
      "_________________________________________________________________\n",
      "max_pooling2d (MaxPooling2D) (None, 28, 28, 8)         0         \n",
      "_________________________________________________________________\n",
      "conv2d_1 (Conv2D)            (None, 28, 28, 16)        528       \n",
      "_________________________________________________________________\n",
      "re_lu_1 (ReLU)               (None, 28, 28, 16)        0         \n",
      "_________________________________________________________________\n",
      "max_pooling2d_1 (MaxPooling2 (None, 7, 7, 16)          0         \n",
      "_________________________________________________________________\n",
      "flatten (Flatten)            (None, 784)               0         \n",
      "_________________________________________________________________\n",
      "dense (Dense)                (None, 4)                 3140      \n",
      "=================================================================\n",
      "Total params: 4,060\n",
      "Trainable params: 4,060\n",
      "Non-trainable params: 0\n",
      "_________________________________________________________________\n"
     ]
    }
   ],
   "source": [
    "conv_model = convolutional_model((224, 224, 3))\n",
    "conv_model.compile(optimizer='adam',\n",
    "                  loss='categorical_crossentropy',\n",
    "                  metrics=['accuracy', tf.keras.metrics.Precision(), tf.keras.metrics.Recall()])\n",
    "conv_model.summary()"
   ]
  },
  {
   "cell_type": "markdown",
   "id": "0f1d2373",
   "metadata": {
    "_cell_guid": "f0e051aa-498e-4efb-b4f2-67cb11a41ad5",
    "_uuid": "32791f54-a3cd-4eb4-a5d0-398a4d66b47f",
    "papermill": {
     "duration": 0.02273,
     "end_time": "2022-01-09T20:05:01.506038",
     "exception": false,
     "start_time": "2022-01-09T20:05:01.483308",
     "status": "completed"
    },
    "tags": []
   },
   "source": [
    "### Training the model"
   ]
  },
  {
   "cell_type": "code",
   "execution_count": 10,
   "id": "5b8d9f6b",
   "metadata": {
    "_cell_guid": "860855c7-e3d7-4355-a586-b1ea43286dc4",
    "_uuid": "3ce6223c-a252-40b2-8b4d-686bf583194a",
    "collapsed": false,
    "execution": {
     "iopub.execute_input": "2022-01-09T20:05:01.557925Z",
     "iopub.status.busy": "2022-01-09T20:05:01.557206Z",
     "iopub.status.idle": "2022-01-09T20:45:42.759809Z",
     "shell.execute_reply": "2022-01-09T20:45:42.758791Z",
     "shell.execute_reply.started": "2022-01-09T19:52:04.023430Z"
    },
    "jupyter": {
     "outputs_hidden": false
    },
    "papermill": {
     "duration": 2441.230656,
     "end_time": "2022-01-09T20:45:42.760038",
     "exception": false,
     "start_time": "2022-01-09T20:05:01.529382",
     "status": "completed"
    },
    "tags": []
   },
   "outputs": [
    {
     "name": "stderr",
     "output_type": "stream",
     "text": [
      "2022-01-09 20:05:01.601107: I tensorflow/compiler/mlir/mlir_graph_optimization_pass.cc:185] None of the MLIR Optimization Passes are enabled (registered 2)\n"
     ]
    },
    {
     "name": "stdout",
     "output_type": "stream",
     "text": [
      "Epoch 1/30\n"
     ]
    },
    {
     "name": "stderr",
     "output_type": "stream",
     "text": [
      "2022-01-09 20:05:04.919908: I tensorflow/stream_executor/cuda/cuda_dnn.cc:369] Loaded cuDNN version 8005\n"
     ]
    },
    {
     "name": "stdout",
     "output_type": "stream",
     "text": [
      "530/530 [==============================] - 103s 177ms/step - loss: 0.8182 - accuracy: 0.6583 - precision: 0.7513 - recall: 0.5310 - val_loss: 0.6664 - val_accuracy: 0.7257 - val_precision: 0.7566 - val_recall: 0.6815\n",
      "\n",
      "Epoch 00001: saving model to training/conv/conv_cp.ckpt\n"
     ]
    },
    {
     "name": "stderr",
     "output_type": "stream",
     "text": [
      "2022-01-09 20:06:44.976954: W tensorflow/python/util/util.cc:348] Sets are not currently considered sequences, but this may change in the future, so consider avoiding using them.\n"
     ]
    },
    {
     "name": "stdout",
     "output_type": "stream",
     "text": [
      "Epoch 2/30\n",
      "530/530 [==============================] - 59s 110ms/step - loss: 0.5919 - accuracy: 0.7711 - precision: 0.8082 - recall: 0.7215 - val_loss: 0.5536 - val_accuracy: 0.7921 - val_precision: 0.8256 - val_recall: 0.7527\n",
      "\n",
      "Epoch 00002: saving model to training/conv/conv_cp.ckpt\n",
      "Epoch 3/30\n",
      "530/530 [==============================] - 60s 111ms/step - loss: 0.5162 - accuracy: 0.8060 - precision: 0.8319 - recall: 0.7708 - val_loss: 0.5120 - val_accuracy: 0.8037 - val_precision: 0.8251 - val_recall: 0.7777\n",
      "\n",
      "Epoch 00003: saving model to training/conv/conv_cp.ckpt\n",
      "Epoch 4/30\n",
      "530/530 [==============================] - 60s 111ms/step - loss: 0.4746 - accuracy: 0.8247 - precision: 0.8467 - recall: 0.7970 - val_loss: 0.4631 - val_accuracy: 0.8202 - val_precision: 0.8446 - val_recall: 0.7949\n",
      "\n",
      "Epoch 00004: saving model to training/conv/conv_cp.ckpt\n",
      "Epoch 5/30\n",
      "530/530 [==============================] - 61s 114ms/step - loss: 0.4473 - accuracy: 0.8352 - precision: 0.8538 - recall: 0.8116 - val_loss: 0.4393 - val_accuracy: 0.8323 - val_precision: 0.8495 - val_recall: 0.8082\n",
      "\n",
      "Epoch 00005: saving model to training/conv/conv_cp.ckpt\n",
      "Epoch 6/30\n",
      "530/530 [==============================] - 60s 112ms/step - loss: 0.4224 - accuracy: 0.8464 - precision: 0.8631 - recall: 0.8252 - val_loss: 0.4364 - val_accuracy: 0.8405 - val_precision: 0.8538 - val_recall: 0.8207\n",
      "\n",
      "Epoch 00006: saving model to training/conv/conv_cp.ckpt\n",
      "Epoch 7/30\n",
      "530/530 [==============================] - 60s 112ms/step - loss: 0.4075 - accuracy: 0.8486 - precision: 0.8640 - recall: 0.8296 - val_loss: 0.4221 - val_accuracy: 0.8429 - val_precision: 0.8534 - val_recall: 0.8280\n",
      "\n",
      "Epoch 00007: saving model to training/conv/conv_cp.ckpt\n",
      "Epoch 8/30\n",
      "530/530 [==============================] - 61s 113ms/step - loss: 0.3904 - accuracy: 0.8568 - precision: 0.8726 - recall: 0.8415 - val_loss: 0.4096 - val_accuracy: 0.8457 - val_precision: 0.8556 - val_recall: 0.8342\n",
      "\n",
      "Epoch 00008: saving model to training/conv/conv_cp.ckpt\n",
      "Epoch 9/30\n",
      "530/530 [==============================] - 61s 113ms/step - loss: 0.3808 - accuracy: 0.8587 - precision: 0.8728 - recall: 0.8428 - val_loss: 0.4234 - val_accuracy: 0.8438 - val_precision: 0.8537 - val_recall: 0.8337\n",
      "\n",
      "Epoch 00009: saving model to training/conv/conv_cp.ckpt\n",
      "Epoch 10/30\n",
      "530/530 [==============================] - 62s 114ms/step - loss: 0.3726 - accuracy: 0.8620 - precision: 0.8755 - recall: 0.8479 - val_loss: 0.3978 - val_accuracy: 0.8498 - val_precision: 0.8615 - val_recall: 0.8346\n",
      "\n",
      "Epoch 00010: saving model to training/conv/conv_cp.ckpt\n",
      "Epoch 11/30\n",
      "530/530 [==============================] - 61s 114ms/step - loss: 0.3619 - accuracy: 0.8669 - precision: 0.8798 - recall: 0.8542 - val_loss: 0.3789 - val_accuracy: 0.8575 - val_precision: 0.8709 - val_recall: 0.8412\n",
      "\n",
      "Epoch 00011: saving model to training/conv/conv_cp.ckpt\n",
      "Epoch 12/30\n",
      "530/530 [==============================] - 63s 117ms/step - loss: 0.3525 - accuracy: 0.8706 - precision: 0.8825 - recall: 0.8582 - val_loss: 0.3916 - val_accuracy: 0.8509 - val_precision: 0.8648 - val_recall: 0.8358\n",
      "\n",
      "Epoch 00012: saving model to training/conv/conv_cp.ckpt\n",
      "Epoch 13/30\n",
      "530/530 [==============================] - 63s 117ms/step - loss: 0.3470 - accuracy: 0.8723 - precision: 0.8839 - recall: 0.8605 - val_loss: 0.3923 - val_accuracy: 0.8580 - val_precision: 0.8656 - val_recall: 0.8446\n",
      "\n",
      "Epoch 00013: saving model to training/conv/conv_cp.ckpt\n",
      "Epoch 14/30\n",
      "530/530 [==============================] - 62s 115ms/step - loss: 0.3411 - accuracy: 0.8744 - precision: 0.8838 - recall: 0.8614 - val_loss: 0.3969 - val_accuracy: 0.8545 - val_precision: 0.8658 - val_recall: 0.8410\n",
      "\n",
      "Epoch 00014: saving model to training/conv/conv_cp.ckpt\n",
      "Epoch 15/30\n",
      "530/530 [==============================] - 64s 119ms/step - loss: 0.3356 - accuracy: 0.8790 - precision: 0.8884 - recall: 0.8681 - val_loss: 0.3657 - val_accuracy: 0.8687 - val_precision: 0.8802 - val_recall: 0.8578\n",
      "\n",
      "Epoch 00015: saving model to training/conv/conv_cp.ckpt\n",
      "Epoch 16/30\n",
      "530/530 [==============================] - 64s 118ms/step - loss: 0.3289 - accuracy: 0.8814 - precision: 0.8913 - recall: 0.8708 - val_loss: 0.3566 - val_accuracy: 0.8703 - val_precision: 0.8797 - val_recall: 0.8601\n",
      "\n",
      "Epoch 00016: saving model to training/conv/conv_cp.ckpt\n",
      "Epoch 17/30\n",
      "530/530 [==============================] - 74s 137ms/step - loss: 0.3284 - accuracy: 0.8782 - precision: 0.8872 - recall: 0.8676 - val_loss: 0.3553 - val_accuracy: 0.8738 - val_precision: 0.8823 - val_recall: 0.8623\n",
      "\n",
      "Epoch 00017: saving model to training/conv/conv_cp.ckpt\n",
      "Epoch 18/30\n",
      "530/530 [==============================] - 62s 115ms/step - loss: 0.3170 - accuracy: 0.8847 - precision: 0.8923 - recall: 0.8747 - val_loss: 0.3667 - val_accuracy: 0.8653 - val_precision: 0.8750 - val_recall: 0.8549\n",
      "\n",
      "Epoch 00018: saving model to training/conv/conv_cp.ckpt\n",
      "Epoch 19/30\n",
      "530/530 [==============================] - 63s 117ms/step - loss: 0.3178 - accuracy: 0.8856 - precision: 0.8936 - recall: 0.8754 - val_loss: 0.3585 - val_accuracy: 0.8663 - val_precision: 0.8761 - val_recall: 0.8585\n",
      "\n",
      "Epoch 00019: saving model to training/conv/conv_cp.ckpt\n",
      "Epoch 20/30\n",
      "530/530 [==============================] - 62s 115ms/step - loss: 0.3133 - accuracy: 0.8837 - precision: 0.8917 - recall: 0.8738 - val_loss: 0.3510 - val_accuracy: 0.8746 - val_precision: 0.8851 - val_recall: 0.8646\n",
      "\n",
      "Epoch 00020: saving model to training/conv/conv_cp.ckpt\n",
      "Epoch 21/30\n",
      "530/530 [==============================] - 63s 117ms/step - loss: 0.3051 - accuracy: 0.8874 - precision: 0.8954 - recall: 0.8783 - val_loss: 0.3582 - val_accuracy: 0.8696 - val_precision: 0.8774 - val_recall: 0.8585\n",
      "\n",
      "Epoch 00021: saving model to training/conv/conv_cp.ckpt\n",
      "Epoch 22/30\n",
      "530/530 [==============================] - 62s 116ms/step - loss: 0.3038 - accuracy: 0.8884 - precision: 0.8982 - recall: 0.8792 - val_loss: 0.3518 - val_accuracy: 0.8753 - val_precision: 0.8834 - val_recall: 0.8642\n",
      "\n",
      "Epoch 00022: saving model to training/conv/conv_cp.ckpt\n",
      "Epoch 23/30\n",
      "530/530 [==============================] - 63s 116ms/step - loss: 0.3036 - accuracy: 0.8881 - precision: 0.8964 - recall: 0.8786 - val_loss: 0.3441 - val_accuracy: 0.8762 - val_precision: 0.8841 - val_recall: 0.8665\n",
      "\n",
      "Epoch 00023: saving model to training/conv/conv_cp.ckpt\n",
      "Epoch 24/30\n",
      "530/530 [==============================] - 63s 117ms/step - loss: 0.2976 - accuracy: 0.8910 - precision: 0.8974 - recall: 0.8824 - val_loss: 0.3587 - val_accuracy: 0.8691 - val_precision: 0.8794 - val_recall: 0.8580\n",
      "\n",
      "Epoch 00024: saving model to training/conv/conv_cp.ckpt\n",
      "Epoch 25/30\n",
      "530/530 [==============================] - 64s 119ms/step - loss: 0.2991 - accuracy: 0.8874 - precision: 0.8966 - recall: 0.8798 - val_loss: 0.3646 - val_accuracy: 0.8642 - val_precision: 0.8738 - val_recall: 0.8585\n",
      "\n",
      "Epoch 00025: saving model to training/conv/conv_cp.ckpt\n",
      "Epoch 26/30\n",
      "530/530 [==============================] - 63s 116ms/step - loss: 0.2955 - accuracy: 0.8899 - precision: 0.8977 - recall: 0.8824 - val_loss: 0.3414 - val_accuracy: 0.8795 - val_precision: 0.8868 - val_recall: 0.8712\n",
      "\n",
      "Epoch 00026: saving model to training/conv/conv_cp.ckpt\n",
      "Epoch 27/30\n",
      "530/530 [==============================] - 64s 118ms/step - loss: 0.2906 - accuracy: 0.8910 - precision: 0.8979 - recall: 0.8833 - val_loss: 0.3412 - val_accuracy: 0.8783 - val_precision: 0.8866 - val_recall: 0.8698\n",
      "\n",
      "Epoch 00027: saving model to training/conv/conv_cp.ckpt\n",
      "Epoch 28/30\n",
      "530/530 [==============================] - 64s 119ms/step - loss: 0.2882 - accuracy: 0.8944 - precision: 0.9011 - recall: 0.8859 - val_loss: 0.3793 - val_accuracy: 0.8597 - val_precision: 0.8674 - val_recall: 0.8472\n",
      "\n",
      "Epoch 00028: saving model to training/conv/conv_cp.ckpt\n",
      "Epoch 29/30\n",
      "530/530 [==============================] - 63s 118ms/step - loss: 0.2903 - accuracy: 0.8920 - precision: 0.8995 - recall: 0.8847 - val_loss: 0.4189 - val_accuracy: 0.8531 - val_precision: 0.8592 - val_recall: 0.8479\n",
      "\n",
      "Epoch 00029: saving model to training/conv/conv_cp.ckpt\n",
      "Epoch 30/30\n",
      "530/530 [==============================] - 63s 118ms/step - loss: 0.2818 - accuracy: 0.8941 - precision: 0.9016 - recall: 0.8877 - val_loss: 0.3332 - val_accuracy: 0.8814 - val_precision: 0.8881 - val_recall: 0.8715\n",
      "\n",
      "Epoch 00030: saving model to training/conv/conv_cp.ckpt\n"
     ]
    }
   ],
   "source": [
    "historyC = conv_model.fit(train_ds, \n",
    "                          epochs=30, \n",
    "                          validation_data=val_ds, \n",
    "                          callbacks = [cp_callback])\n",
    "conv_model.save('conv_model.h5')"
   ]
  },
  {
   "cell_type": "markdown",
   "id": "4f29a85d",
   "metadata": {
    "papermill": {
     "duration": 6.42736,
     "end_time": "2022-01-09T20:45:55.023759",
     "exception": false,
     "start_time": "2022-01-09T20:45:48.596399",
     "status": "completed"
    },
    "tags": []
   },
   "source": [
    "### Evaluation of the trained model"
   ]
  },
  {
   "cell_type": "code",
   "execution_count": 11,
   "id": "c1dc2ee0",
   "metadata": {
    "execution": {
     "iopub.execute_input": "2022-01-09T20:46:05.982689Z",
     "iopub.status.busy": "2022-01-09T20:46:05.980664Z",
     "iopub.status.idle": "2022-01-09T20:46:05.985287Z",
     "shell.execute_reply": "2022-01-09T20:46:05.984648Z",
     "shell.execute_reply.started": "2022-01-09T20:01:56.450889Z"
    },
    "papermill": {
     "duration": 5.627882,
     "end_time": "2022-01-09T20:46:05.985465",
     "exception": false,
     "start_time": "2022-01-09T20:46:00.357583",
     "status": "completed"
    },
    "tags": []
   },
   "outputs": [
    {
     "name": "stdout",
     "output_type": "stream",
     "text": [
      "dict_keys(['loss', 'accuracy', 'precision', 'recall', 'val_loss', 'val_accuracy', 'val_precision', 'val_recall']) 8 <class 'dict_keys'>\n"
     ]
    }
   ],
   "source": [
    "l = historyC.history.keys()\n",
    "print(l, len(l), type(l))"
   ]
  },
  {
   "cell_type": "code",
   "execution_count": 12,
   "id": "9b6b6b29",
   "metadata": {
    "execution": {
     "iopub.execute_input": "2022-01-09T20:46:17.041626Z",
     "iopub.status.busy": "2022-01-09T20:46:17.040954Z",
     "iopub.status.idle": "2022-01-09T20:46:18.248563Z",
     "shell.execute_reply": "2022-01-09T20:46:18.248024Z",
     "shell.execute_reply.started": "2022-01-09T20:02:31.778923Z"
    },
    "papermill": {
     "duration": 6.906536,
     "end_time": "2022-01-09T20:46:18.248753",
     "exception": false,
     "start_time": "2022-01-09T20:46:11.342217",
     "status": "completed"
    },
    "tags": []
   },
   "outputs": [
    {
     "name": "stderr",
     "output_type": "stream",
     "text": [
      "/opt/conda/lib/python3.7/site-packages/pandas/core/frame.py:5047: SettingWithCopyWarning: \n",
      "A value is trying to be set on a copy of a slice from a DataFrame\n",
      "\n",
      "See the caveats in the documentation: https://pandas.pydata.org/pandas-docs/stable/user_guide/indexing.html#returning-a-view-versus-a-copy\n",
      "  errors=errors,\n",
      "/opt/conda/lib/python3.7/site-packages/pandas/core/frame.py:5047: SettingWithCopyWarning: \n",
      "A value is trying to be set on a copy of a slice from a DataFrame\n",
      "\n",
      "See the caveats in the documentation: https://pandas.pydata.org/pandas-docs/stable/user_guide/indexing.html#returning-a-view-versus-a-copy\n",
      "  errors=errors,\n",
      "/opt/conda/lib/python3.7/site-packages/pandas/core/frame.py:5047: SettingWithCopyWarning: \n",
      "A value is trying to be set on a copy of a slice from a DataFrame\n",
      "\n",
      "See the caveats in the documentation: https://pandas.pydata.org/pandas-docs/stable/user_guide/indexing.html#returning-a-view-versus-a-copy\n",
      "  errors=errors,\n",
      "/opt/conda/lib/python3.7/site-packages/pandas/core/frame.py:5047: SettingWithCopyWarning: \n",
      "A value is trying to be set on a copy of a slice from a DataFrame\n",
      "\n",
      "See the caveats in the documentation: https://pandas.pydata.org/pandas-docs/stable/user_guide/indexing.html#returning-a-view-versus-a-copy\n",
      "  errors=errors,\n"
     ]
    },
    {
     "data": {
      "image/png": "[encoded data removed]",
      "text/plain": [
       "<Figure size 864x576 with 1 Axes>"
      ]
     },
     "metadata": {
      "needs_background": "light"
     },
     "output_type": "display_data"
    },
    {
     "data": {
      "image/png": "[encoded data removed]",
      "text/plain": [
       "<Figure size 864x576 with 1 Axes>"
      ]
     },
     "metadata": {
      "needs_background": "light"
     },
     "output_type": "display_data"
    },
    {
     "data": {
      "image/png": "[encoded data removed]",
      "text/plain": [
       "<Figure size 864x576 with 1 Axes>"
      ]
     },
     "metadata": {
      "needs_background": "light"
     },
     "output_type": "display_data"
    },
    {
     "data": {
      "image/png": "[encoded data removed]",
      "text/plain": [
       "<Figure size 864x576 with 1 Axes>"
      ]
     },
     "metadata": {
      "needs_background": "light"
     },
     "output_type": "display_data"
    }
   ],
   "source": [
    "metrics = list(historyC.history.keys())\n",
    "\n",
    "df = pd.DataFrame(historyC.history)\n",
    "\n",
    "for i in range(len(l)//2):\n",
    "    tr = metrics[i]\n",
    "    val = \"val_\" + tr\n",
    "    df_pl= df[[tr,val]]\n",
    "    df_pl.rename(columns={tr:'train',val:'validation'},inplace=True)\n",
    "    df_pl.plot(title='Model '+tr,figsize=(12,8)).set(xlabel='Epoch',ylabel=tr)"
   ]
  },
  {
   "cell_type": "code",
   "execution_count": 13,
   "id": "cbcb7470",
   "metadata": {
    "_cell_guid": "83378314-2252-4739-b5d2-a93ac4c11607",
    "_uuid": "ea50094c-56eb-4e4f-aec0-f0c55fabe904",
    "collapsed": false,
    "execution": {
     "iopub.execute_input": "2022-01-09T20:46:29.962372Z",
     "iopub.status.busy": "2022-01-09T20:46:29.961300Z",
     "iopub.status.idle": "2022-01-09T20:46:50.482907Z",
     "shell.execute_reply": "2022-01-09T20:46:50.482280Z",
     "shell.execute_reply.started": "2022-01-09T20:02:41.425880Z"
    },
    "jupyter": {
     "outputs_hidden": false
    },
    "papermill": {
     "duration": 26.229669,
     "end_time": "2022-01-09T20:46:50.483091",
     "exception": false,
     "start_time": "2022-01-09T20:46:24.253422",
     "status": "completed"
    },
    "tags": []
   },
   "outputs": [
    {
     "name": "stdout",
     "output_type": "stream",
     "text": [
      "133/133 [==============================] - 12s 82ms/step - loss: 0.3332 - accuracy: 0.8814 - precision: 0.8881 - recall: 0.8715\n",
      "The loss on 64 elements of the validation set is 0.333236426115036 \n",
      "The accuracy on those elements is 0.8814079761505127 \n",
      "The Precision of the model is 0.888059675693512 \n",
      "The recall of the model is 0.8714859485626221\n"
     ]
    }
   ],
   "source": [
    "loss, acc, pre, re = conv_model.evaluate(val_ds, batch_size = 64)\n",
    "print(\"The loss on 64 elements of the validation set is\", loss,\n",
    "      \"\\nThe accuracy on those elements is\", acc, \n",
    "      \"\\nThe Precision of the model is\", pre, \n",
    "      \"\\nThe recall of the model is\", re)"
   ]
  },
  {
   "cell_type": "code",
   "execution_count": null,
   "id": "016ba926",
   "metadata": {
    "papermill": {
     "duration": 5.824896,
     "end_time": "2022-01-09T20:47:02.304528",
     "exception": false,
     "start_time": "2022-01-09T20:46:56.479632",
     "status": "completed"
    },
    "tags": []
   },
   "outputs": [],
   "source": []
  }
 ],
 "metadata": {
  "kernelspec": {
   "display_name": "Python 3",
   "language": "python",
   "name": "python3"
  },
  "language_info": {
   "codemirror_mode": {
    "name": "ipython",
    "version": 3
   },
   "file_extension": ".py",
   "mimetype": "text/x-python",
   "name": "python",
   "nbconvert_exporter": "python",
   "pygments_lexer": "ipython3",
   "version": "3.7.12"
  },
  "papermill": {
   "default_parameters": {},
   "duration": 2595.754163,
   "end_time": "2022-01-09T20:47:10.745298",
   "environment_variables": {},
   "exception": null,
   "input_path": "__notebook__.ipynb",
   "output_path": "__notebook__.ipynb",
   "parameters": {},
   "start_time": "2022-01-09T20:03:54.991135",
   "version": "2.3.3"
  }
 },
 "nbformat": 4,
 "nbformat_minor": 5
}
