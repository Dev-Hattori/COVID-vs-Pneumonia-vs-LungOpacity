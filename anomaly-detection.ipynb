{
 "cells": [
  {
   "cell_type": "markdown",
   "id": "0f8b9357",
   "metadata": {
    "papermill": {
     "duration": 0.051937,
     "end_time": "2022-02-22T19:09:36.647316",
     "exception": false,
     "start_time": "2022-02-22T19:09:36.595379",
     "status": "completed"
    },
    "tags": []
   },
   "source": [
    "# Anomaly Detection\n",
    "This is an attempt to classify the scans into all the 4 classes.\n",
    "Since the data distro is kind of skewed (we have nearly $10K$ images of normal which is equal to the total number of scans of all the other classes combined), so we'll treat the *COVID*, *Viral Pneumonia* and *Lung Opacity* as an anomaly. This will be the stage one of the pipeline which will be followed by a classification of the anomalous images into the respective 3 classes."
   ]
  },
  {
   "cell_type": "markdown",
   "id": "44dc30fa",
   "metadata": {
    "papermill": {
     "duration": 0.037617,
     "end_time": "2022-02-22T19:09:36.719649",
     "exception": false,
     "start_time": "2022-02-22T19:09:36.682032",
     "status": "completed"
    },
    "tags": []
   },
   "source": [
    "# Imports"
   ]
  },
  {
   "cell_type": "code",
   "execution_count": 1,
   "id": "a8ec4a0e",
   "metadata": {
    "execution": {
     "iopub.execute_input": "2022-02-22T19:09:36.782970Z",
     "iopub.status.busy": "2022-02-22T19:09:36.782175Z",
     "iopub.status.idle": "2022-02-22T19:09:42.107739Z",
     "shell.execute_reply": "2022-02-22T19:09:42.107164Z",
     "shell.execute_reply.started": "2022-02-22T19:03:05.970485Z"
    },
    "papermill": {
     "duration": 5.362412,
     "end_time": "2022-02-22T19:09:42.107880",
     "exception": false,
     "start_time": "2022-02-22T19:09:36.745468",
     "status": "completed"
    },
    "tags": []
   },
   "outputs": [
    {
     "name": "stdout",
     "output_type": "stream",
     "text": [
      "Imports Complete\n"
     ]
    }
   ],
   "source": [
    "import numpy as np\n",
    "import pandas as pd\n",
    "import matplotlib.pyplot as plt\n",
    "import cv2\n",
    "import h5py\n",
    "\n",
    "import tensorflow as tf\n",
    "import tensorflow_addons as tfa\n",
    "from tensorflow.keras.layers import Conv2D, Conv2DTranspose, BatchNormalization, MaxPooling2D, Add\n",
    "from keras.callbacks import ModelCheckpoint\n",
    "\n",
    "import os\n",
    "import shutil\n",
    "\n",
    "print(\"Imports Complete\")"
   ]
  },
  {
   "cell_type": "markdown",
   "id": "dd3b9a2b",
   "metadata": {
    "papermill": {
     "duration": 0.025934,
     "end_time": "2022-02-22T19:09:42.160478",
     "exception": false,
     "start_time": "2022-02-22T19:09:42.134544",
     "status": "completed"
    },
    "tags": []
   },
   "source": [
    "## Loading the data"
   ]
  },
  {
   "cell_type": "code",
   "execution_count": 2,
   "id": "823d7926",
   "metadata": {
    "execution": {
     "iopub.execute_input": "2022-02-22T19:09:42.220627Z",
     "iopub.status.busy": "2022-02-22T19:09:42.219815Z",
     "iopub.status.idle": "2022-02-22T19:09:42.222118Z",
     "shell.execute_reply": "2022-02-22T19:09:42.221702Z",
     "shell.execute_reply.started": "2022-02-22T19:03:05.979583Z"
    },
    "papermill": {
     "duration": 0.035484,
     "end_time": "2022-02-22T19:09:42.222228",
     "exception": false,
     "start_time": "2022-02-22T19:09:42.186744",
     "status": "completed"
    },
    "tags": []
   },
   "outputs": [],
   "source": [
    "#shutil.rmtree(\"/tmp/anomaly\")"
   ]
  },
  {
   "cell_type": "code",
   "execution_count": 3,
   "id": "205357fb",
   "metadata": {
    "execution": {
     "iopub.execute_input": "2022-02-22T19:09:42.278078Z",
     "iopub.status.busy": "2022-02-22T19:09:42.277371Z",
     "iopub.status.idle": "2022-02-22T19:09:42.936936Z",
     "shell.execute_reply": "2022-02-22T19:09:42.936459Z",
     "shell.execute_reply.started": "2022-02-22T19:03:05.989691Z"
    },
    "papermill": {
     "duration": 0.688962,
     "end_time": "2022-02-22T19:09:42.937065",
     "exception": false,
     "start_time": "2022-02-22T19:09:42.248103",
     "status": "completed"
    },
    "tags": []
   },
   "outputs": [],
   "source": [
    "!mkdir /tmp/anomaly"
   ]
  },
  {
   "cell_type": "code",
   "execution_count": 4,
   "id": "0529a68f",
   "metadata": {
    "execution": {
     "iopub.execute_input": "2022-02-22T19:09:42.996046Z",
     "iopub.status.busy": "2022-02-22T19:09:42.995228Z",
     "iopub.status.idle": "2022-02-22T19:09:42.997171Z",
     "shell.execute_reply": "2022-02-22T19:09:42.997558Z",
     "shell.execute_reply.started": "2022-02-22T19:03:06.795184Z"
    },
    "papermill": {
     "duration": 0.033529,
     "end_time": "2022-02-22T19:09:42.997685",
     "exception": false,
     "start_time": "2022-02-22T19:09:42.964156",
     "status": "completed"
    },
    "tags": []
   },
   "outputs": [],
   "source": [
    "import glob\n",
    "import shutil\n",
    "\n",
    "def f2f(scr, dst='/tmp/anomaly'):\n",
    "    for jf in glob.iglob(os.path.join(scr,\"*.png\")):\n",
    "        shutil.copy(jf, dst)"
   ]
  },
  {
   "cell_type": "code",
   "execution_count": 5,
   "id": "fa0a5309",
   "metadata": {
    "execution": {
     "iopub.execute_input": "2022-02-22T19:09:43.056679Z",
     "iopub.status.busy": "2022-02-22T19:09:43.055964Z",
     "iopub.status.idle": "2022-02-22T19:09:43.058974Z",
     "shell.execute_reply": "2022-02-22T19:09:43.059389Z",
     "shell.execute_reply.started": "2022-02-22T19:03:06.804086Z"
    },
    "papermill": {
     "duration": 0.035914,
     "end_time": "2022-02-22T19:09:43.059506",
     "exception": false,
     "start_time": "2022-02-22T19:09:43.023592",
     "status": "completed"
    },
    "tags": []
   },
   "outputs": [
    {
     "data": {
      "text/plain": [
       "'\\n\\nf2f(di+\"COVID\" )\\nf2f(di+\\'Lung_Opacity\\')\\nf2f(di+\"Viral Pneumonia\")\\n'"
      ]
     },
     "execution_count": 5,
     "metadata": {},
     "output_type": "execute_result"
    }
   ],
   "source": [
    "\"\"\"\n",
    "\n",
    "f2f(di+\"COVID\" )\n",
    "f2f(di+'Lung_Opacity')\n",
    "f2f(di+\"Viral Pneumonia\")\n",
    "\"\"\""
   ]
  },
  {
   "cell_type": "code",
   "execution_count": 6,
   "id": "d7a918a3",
   "metadata": {
    "execution": {
     "iopub.execute_input": "2022-02-22T19:09:43.115230Z",
     "iopub.status.busy": "2022-02-22T19:09:43.114474Z",
     "iopub.status.idle": "2022-02-22T19:09:43.762957Z",
     "shell.execute_reply": "2022-02-22T19:09:43.762472Z",
     "shell.execute_reply.started": "2022-02-22T19:03:06.817284Z"
    },
    "papermill": {
     "duration": 0.677083,
     "end_time": "2022-02-22T19:09:43.763084",
     "exception": false,
     "start_time": "2022-02-22T19:09:43.086001",
     "status": "completed"
    },
    "tags": []
   },
   "outputs": [],
   "source": [
    "!mkdir /tmp/normal"
   ]
  },
  {
   "cell_type": "code",
   "execution_count": 7,
   "id": "97bbf575",
   "metadata": {
    "execution": {
     "iopub.execute_input": "2022-02-22T19:09:43.821617Z",
     "iopub.status.busy": "2022-02-22T19:09:43.820981Z",
     "iopub.status.idle": "2022-02-22T19:10:50.877823Z",
     "shell.execute_reply": "2022-02-22T19:10:50.877112Z",
     "shell.execute_reply.started": "2022-02-22T19:03:07.497552Z"
    },
    "papermill": {
     "duration": 67.088242,
     "end_time": "2022-02-22T19:10:50.877970",
     "exception": false,
     "start_time": "2022-02-22T19:09:43.789728",
     "status": "completed"
    },
    "tags": []
   },
   "outputs": [],
   "source": [
    "di = \"../input/covid19-radiography-database/COVID-19_Radiography_Dataset/\"\n",
    "f2f(di+\"Normal\", \"/tmp/normal\")"
   ]
  },
  {
   "cell_type": "markdown",
   "id": "2d969eef",
   "metadata": {
    "papermill": {
     "duration": 0.026518,
     "end_time": "2022-02-22T19:10:50.931951",
     "exception": false,
     "start_time": "2022-02-22T19:10:50.905433",
     "status": "completed"
    },
    "tags": []
   },
   "source": [
    "Next we'll create a `dataset` of all the normal samples to train the *anomaly detection system*."
   ]
  },
  {
   "cell_type": "code",
   "execution_count": 8,
   "id": "ea6bfc75",
   "metadata": {
    "execution": {
     "iopub.execute_input": "2022-02-22T19:10:50.991326Z",
     "iopub.status.busy": "2022-02-22T19:10:50.990762Z",
     "iopub.status.idle": "2022-02-22T19:10:53.946800Z",
     "shell.execute_reply": "2022-02-22T19:10:53.946160Z",
     "shell.execute_reply.started": "2022-02-22T19:03:19.083891Z"
    },
    "papermill": {
     "duration": 2.988629,
     "end_time": "2022-02-22T19:10:53.946958",
     "exception": false,
     "start_time": "2022-02-22T19:10:50.958329",
     "status": "completed"
    },
    "tags": []
   },
   "outputs": [
    {
     "name": "stdout",
     "output_type": "stream",
     "text": [
      "Found 10192 files belonging to 1 classes.\n",
      "Using 9173 files for training.\n"
     ]
    },
    {
     "name": "stderr",
     "output_type": "stream",
     "text": [
      "2022-02-22 19:10:51.304280: I tensorflow/stream_executor/cuda/cuda_gpu_executor.cc:937] successful NUMA node read from SysFS had negative value (-1), but there must be at least one NUMA node, so returning NUMA node zero\n",
      "2022-02-22 19:10:51.400611: I tensorflow/stream_executor/cuda/cuda_gpu_executor.cc:937] successful NUMA node read from SysFS had negative value (-1), but there must be at least one NUMA node, so returning NUMA node zero\n",
      "2022-02-22 19:10:51.401410: I tensorflow/stream_executor/cuda/cuda_gpu_executor.cc:937] successful NUMA node read from SysFS had negative value (-1), but there must be at least one NUMA node, so returning NUMA node zero\n",
      "2022-02-22 19:10:51.406546: I tensorflow/core/platform/cpu_feature_guard.cc:142] This TensorFlow binary is optimized with oneAPI Deep Neural Network Library (oneDNN) to use the following CPU instructions in performance-critical operations:  AVX2 AVX512F FMA\n",
      "To enable them in other operations, rebuild TensorFlow with the appropriate compiler flags.\n",
      "2022-02-22 19:10:51.407598: I tensorflow/stream_executor/cuda/cuda_gpu_executor.cc:937] successful NUMA node read from SysFS had negative value (-1), but there must be at least one NUMA node, so returning NUMA node zero\n",
      "2022-02-22 19:10:51.408574: I tensorflow/stream_executor/cuda/cuda_gpu_executor.cc:937] successful NUMA node read from SysFS had negative value (-1), but there must be at least one NUMA node, so returning NUMA node zero\n",
      "2022-02-22 19:10:51.409218: I tensorflow/stream_executor/cuda/cuda_gpu_executor.cc:937] successful NUMA node read from SysFS had negative value (-1), but there must be at least one NUMA node, so returning NUMA node zero\n",
      "2022-02-22 19:10:53.345624: I tensorflow/stream_executor/cuda/cuda_gpu_executor.cc:937] successful NUMA node read from SysFS had negative value (-1), but there must be at least one NUMA node, so returning NUMA node zero\n",
      "2022-02-22 19:10:53.346429: I tensorflow/stream_executor/cuda/cuda_gpu_executor.cc:937] successful NUMA node read from SysFS had negative value (-1), but there must be at least one NUMA node, so returning NUMA node zero\n",
      "2022-02-22 19:10:53.347067: I tensorflow/stream_executor/cuda/cuda_gpu_executor.cc:937] successful NUMA node read from SysFS had negative value (-1), but there must be at least one NUMA node, so returning NUMA node zero\n",
      "2022-02-22 19:10:53.347700: I tensorflow/core/common_runtime/gpu/gpu_device.cc:1510] Created device /job:localhost/replica:0/task:0/device:GPU:0 with 15403 MB memory:  -> device: 0, name: Tesla P100-PCIE-16GB, pci bus id: 0000:00:04.0, compute capability: 6.0\n"
     ]
    },
    {
     "name": "stdout",
     "output_type": "stream",
     "text": [
      "Found 10192 files belonging to 1 classes.\n",
      "Using 1019 files for validation.\n"
     ]
    }
   ],
   "source": [
    "encotds = tf.keras.preprocessing.image_dataset_from_directory(\n",
    "    \"/tmp/normal\", labels = None, color_mode = \"rgb\", batch_size = 32, \n",
    "    image_size = (224, 224), shuffle = True, seed = 42, \n",
    "    validation_split = 0.1, subset = \"training\", interpolation = \"bicubic\")\n",
    "\n",
    "encovds = tf.keras.preprocessing.image_dataset_from_directory(\n",
    "    \"/tmp/normal\", labels = None, color_mode = \"rgb\", batch_size = 32, \n",
    "    image_size = (224, 224), shuffle = True, seed = 42, \n",
    "    validation_split = 0.1, subset = \"validation\", interpolation = \"bicubic\")\n"
   ]
  },
  {
   "cell_type": "markdown",
   "id": "b8af7c86",
   "metadata": {
    "papermill": {
     "duration": 0.027683,
     "end_time": "2022-02-22T19:10:54.003170",
     "exception": false,
     "start_time": "2022-02-22T19:10:53.975487",
     "status": "completed"
    },
    "tags": []
   },
   "source": [
    "Next, the dataset of all the anomalous samples."
   ]
  },
  {
   "cell_type": "code",
   "execution_count": 9,
   "id": "511043eb",
   "metadata": {
    "execution": {
     "iopub.execute_input": "2022-02-22T19:10:54.066349Z",
     "iopub.status.busy": "2022-02-22T19:10:54.065507Z",
     "iopub.status.idle": "2022-02-22T19:10:54.068556Z",
     "shell.execute_reply": "2022-02-22T19:10:54.068973Z",
     "shell.execute_reply.started": "2022-02-22T19:03:19.601784Z"
    },
    "papermill": {
     "duration": 0.038084,
     "end_time": "2022-02-22T19:10:54.069108",
     "exception": false,
     "start_time": "2022-02-22T19:10:54.031024",
     "status": "completed"
    },
    "tags": []
   },
   "outputs": [
    {
     "data": {
      "text/plain": [
       "'\\nanoTds = tf.keras.preprocessing.image_dataset_from_directory(\\n    \"/tmp/anomaly\", labels = None, color_mode = \"rgb\", batch_size = 32, \\n    image_size = (224, 224), shuffle = True, seed = 42, \\n    validation_split = 0.1, subset = \"training\", interpolation = \"bicubic\")\\n\\nanoVds = tf.keras.preprocessing.image_dataset_from_directory(\\n    \"/tmp/anomaly\", labels = None, color_mode = \"rgb\", batch_size = 32, \\n    image_size = (224, 224), shuffle = True, seed = 42, \\n    validation_split = 0.1, subset = \"validation\", interpolation = \"bicubic\")\\n'"
      ]
     },
     "execution_count": 9,
     "metadata": {},
     "output_type": "execute_result"
    }
   ],
   "source": [
    "\"\"\"\n",
    "anoTds = tf.keras.preprocessing.image_dataset_from_directory(\n",
    "    \"/tmp/anomaly\", labels = None, color_mode = \"rgb\", batch_size = 32, \n",
    "    image_size = (224, 224), shuffle = True, seed = 42, \n",
    "    validation_split = 0.1, subset = \"training\", interpolation = \"bicubic\")\n",
    "\n",
    "anoVds = tf.keras.preprocessing.image_dataset_from_directory(\n",
    "    \"/tmp/anomaly\", labels = None, color_mode = \"rgb\", batch_size = 32, \n",
    "    image_size = (224, 224), shuffle = True, seed = 42, \n",
    "    validation_split = 0.1, subset = \"validation\", interpolation = \"bicubic\")\n",
    "\"\"\""
   ]
  },
  {
   "cell_type": "markdown",
   "id": "c91ae8a7",
   "metadata": {
    "papermill": {
     "duration": 0.028831,
     "end_time": "2022-02-22T19:10:54.127927",
     "exception": false,
     "start_time": "2022-02-22T19:10:54.099096",
     "status": "completed"
    },
    "tags": []
   },
   "source": [
    "# The Model"
   ]
  },
  {
   "cell_type": "code",
   "execution_count": 10,
   "id": "1b9a78e5",
   "metadata": {
    "execution": {
     "iopub.execute_input": "2022-02-22T19:10:54.192694Z",
     "iopub.status.busy": "2022-02-22T19:10:54.191996Z",
     "iopub.status.idle": "2022-02-22T19:10:54.194177Z",
     "shell.execute_reply": "2022-02-22T19:10:54.194638Z",
     "shell.execute_reply.started": "2022-02-22T19:03:19.609986Z"
    },
    "papermill": {
     "duration": 0.03824,
     "end_time": "2022-02-22T19:10:54.194761",
     "exception": false,
     "start_time": "2022-02-22T19:10:54.156521",
     "status": "completed"
    },
    "tags": []
   },
   "outputs": [],
   "source": [
    "def identity_block(X, f, filters, training=True):\n",
    "    \n",
    "    f1, f2, f3 = filters\n",
    "    X_skip = X\n",
    "    \n",
    "    X = Conv2D(filters=f1, kernel_size=1, padding='valid')(X)\n",
    "    X = BatchNormalization(axis = 3)(X, training = training)\n",
    "    X = tf.keras.activations.relu(X)\n",
    "    \n",
    "    X = Conv2D(filters=f2, kernel_size=f, padding='same')(X)\n",
    "    X = BatchNormalization(axis = 3)(X, training = training)\n",
    "    X = tf.keras.activations.relu(X)\n",
    "    \n",
    "    X = Conv2D(filters=f3, kernel_size=1, padding='valid')(X)\n",
    "    X = BatchNormalization(axis = 3)(X, training = training)\n",
    "    \n",
    "    X = tf.keras.layers.Add()([X_skip, X])\n",
    "    X = tf.keras.activations.relu(X)\n",
    "    \n",
    "    return X"
   ]
  },
  {
   "cell_type": "code",
   "execution_count": 11,
   "id": "90f2acab",
   "metadata": {
    "execution": {
     "iopub.execute_input": "2022-02-22T19:10:54.260448Z",
     "iopub.status.busy": "2022-02-22T19:10:54.259654Z",
     "iopub.status.idle": "2022-02-22T19:10:54.261611Z",
     "shell.execute_reply": "2022-02-22T19:10:54.261978Z",
     "shell.execute_reply.started": "2022-02-22T19:03:19.621914Z"
    },
    "papermill": {
     "duration": 0.038702,
     "end_time": "2022-02-22T19:10:54.262134",
     "exception": false,
     "start_time": "2022-02-22T19:10:54.223432",
     "status": "completed"
    },
    "tags": []
   },
   "outputs": [],
   "source": [
    "def conv_block(X, f, filters, s=2, training=True):\n",
    "    \n",
    "    f1, f2, f3 = filters\n",
    "    X_skip = X\n",
    "    \n",
    "    X = Conv2D(filters = f1, kernel_size = 1, strides = (s, s), padding='valid')(X)\n",
    "    X = BatchNormalization(axis = 3)(X, training=training)\n",
    "    X = tf.keras.activations.relu(X)\n",
    "    \n",
    "    X = Conv2D(filters = f2, kernel_size = f, strides = (1, 1), padding='same')(X)\n",
    "    X = BatchNormalization(axis = 3)(X, training=training)\n",
    "    X = tf.keras.activations.relu(X) \n",
    "    \n",
    "    X = Conv2D(filters = f3, kernel_size = 1, strides = (1, 1), padding='valid')(X)\n",
    "    X = BatchNormalization()(X, training = training)\n",
    "    \n",
    "    X_skip = Conv2D(filters = f3, kernel_size = 1, strides=(s,s), padding='valid')(X_skip)\n",
    "    X_skip = BatchNormalization()(X_skip, training = training)\n",
    "    \n",
    "    X = Add()([X, X_skip])\n",
    "    X = tf.keras.activations.relu(X)\n",
    "    \n",
    "    return X"
   ]
  },
  {
   "cell_type": "code",
   "execution_count": 12,
   "id": "ddbc01d4",
   "metadata": {
    "execution": {
     "iopub.execute_input": "2022-02-22T19:10:54.330033Z",
     "iopub.status.busy": "2022-02-22T19:10:54.329284Z",
     "iopub.status.idle": "2022-02-22T19:10:54.331658Z",
     "shell.execute_reply": "2022-02-22T19:10:54.331216Z",
     "shell.execute_reply.started": "2022-02-22T19:03:19.633438Z"
    },
    "papermill": {
     "duration": 0.040899,
     "end_time": "2022-02-22T19:10:54.331765",
     "exception": false,
     "start_time": "2022-02-22T19:10:54.290866",
     "status": "completed"
    },
    "tags": []
   },
   "outputs": [],
   "source": [
    "def Trans_conv_block(X, f, filters, s=2, training=True):\n",
    "    \n",
    "    f1, f2, f3 = filters\n",
    "    X_skip = X\n",
    "    \n",
    "    X = Conv2DTranspose(filters = f1, kernel_size = 1, strides = (s, s), padding='valid')(X)\n",
    "    X = BatchNormalization(axis = 3)(X, training=training)\n",
    "    X = tf.keras.activations.relu(X)\n",
    "    \n",
    "    X = Conv2DTranspose(filters = f2, kernel_size = f, strides = (1, 1), padding='same')(X)\n",
    "    X = BatchNormalization(axis = 3)(X, training=training)\n",
    "    X = tf.keras.activations.relu(X) \n",
    "    \n",
    "    X = Conv2DTranspose(filters = f3, kernel_size = 1, strides = (1, 1), padding='same')(X)\n",
    "    X = BatchNormalization()(X, training = training)\n",
    "    \n",
    "    X_skip = Conv2DTranspose(filters = f3, kernel_size = 1, strides=(s,s), padding='valid')(X_skip)\n",
    "    X_skip = BatchNormalization()(X_skip, training = training)\n",
    "    \n",
    "    X = Add()([X, X_skip])\n",
    "    X = tf.keras.activations.relu(X)\n",
    "    \n",
    "    return X"
   ]
  },
  {
   "cell_type": "code",
   "execution_count": 13,
   "id": "0fad32ac",
   "metadata": {
    "execution": {
     "iopub.execute_input": "2022-02-22T19:10:54.396272Z",
     "iopub.status.busy": "2022-02-22T19:10:54.395543Z",
     "iopub.status.idle": "2022-02-22T19:10:54.397993Z",
     "shell.execute_reply": "2022-02-22T19:10:54.397546Z",
     "shell.execute_reply.started": "2022-02-22T19:03:19.647544Z"
    },
    "papermill": {
     "duration": 0.038071,
     "end_time": "2022-02-22T19:10:54.398102",
     "exception": false,
     "start_time": "2022-02-22T19:10:54.360031",
     "status": "completed"
    },
    "tags": []
   },
   "outputs": [],
   "source": [
    "def enco(input_shape=(224,224,3)):\n",
    "    \n",
    "    X_inp = tf.keras.Input(shape=input_shape)\n",
    "    \n",
    "    X = Conv2D(64, (3,3), strides = (2,2))(X_inp)\n",
    "    X = BatchNormalization(axis = 3)(X)\n",
    "    X = tf.keras.activations.relu(X)\n",
    "    X = MaxPooling2D((3, 3), strides=(2, 2))(X)\n",
    "    \n",
    "    X = conv_block(X, f = 3, filters = [64, 64, 256], s = 1)\n",
    "    X = identity_block(X, 3, [64, 64, 256])\n",
    "    X = identity_block(X, 3, [64, 64, 256])\n",
    "    \n",
    "    X = conv_block(X, 3, filters = [128, 128, 512], s = 2)\n",
    "    X = identity_block(X, 3, [128, 128, 512])\n",
    "    X = identity_block(X, 3, [128, 128, 512])\n",
    "    \n",
    "    model = tf.keras.Model(inputs=X_inp,outputs=X)\n",
    "    \n",
    "    return model"
   ]
  },
  {
   "cell_type": "code",
   "execution_count": 14,
   "id": "29e16633",
   "metadata": {
    "execution": {
     "iopub.execute_input": "2022-02-22T19:10:54.460612Z",
     "iopub.status.busy": "2022-02-22T19:10:54.460085Z",
     "iopub.status.idle": "2022-02-22T19:10:54.864842Z",
     "shell.execute_reply": "2022-02-22T19:10:54.865445Z",
     "shell.execute_reply.started": "2022-02-22T19:03:19.660935Z"
    },
    "papermill": {
     "duration": 0.437204,
     "end_time": "2022-02-22T19:10:54.865645",
     "exception": false,
     "start_time": "2022-02-22T19:10:54.428441",
     "status": "completed"
    },
    "tags": []
   },
   "outputs": [
    {
     "name": "stdout",
     "output_type": "stream",
     "text": [
      "(None, 28, 28, 512)\n",
      "Model: \"model\"\n",
      "__________________________________________________________________________________________________\n",
      "Layer (type)                    Output Shape         Param #     Connected to                     \n",
      "==================================================================================================\n",
      "input_1 (InputLayer)            [(None, 224, 224, 3) 0                                            \n",
      "__________________________________________________________________________________________________\n",
      "conv2d (Conv2D)                 (None, 111, 111, 64) 1792        input_1[0][0]                    \n",
      "__________________________________________________________________________________________________\n",
      "batch_normalization (BatchNorma (None, 111, 111, 64) 256         conv2d[0][0]                     \n",
      "__________________________________________________________________________________________________\n",
      "tf.nn.relu (TFOpLambda)         (None, 111, 111, 64) 0           batch_normalization[0][0]        \n",
      "__________________________________________________________________________________________________\n",
      "max_pooling2d (MaxPooling2D)    (None, 55, 55, 64)   0           tf.nn.relu[0][0]                 \n",
      "__________________________________________________________________________________________________\n",
      "conv2d_1 (Conv2D)               (None, 55, 55, 64)   4160        max_pooling2d[0][0]              \n",
      "__________________________________________________________________________________________________\n",
      "batch_normalization_1 (BatchNor (None, 55, 55, 64)   256         conv2d_1[0][0]                   \n",
      "__________________________________________________________________________________________________\n",
      "tf.nn.relu_1 (TFOpLambda)       (None, 55, 55, 64)   0           batch_normalization_1[0][0]      \n",
      "__________________________________________________________________________________________________\n",
      "conv2d_2 (Conv2D)               (None, 55, 55, 64)   36928       tf.nn.relu_1[0][0]               \n",
      "__________________________________________________________________________________________________\n",
      "batch_normalization_2 (BatchNor (None, 55, 55, 64)   256         conv2d_2[0][0]                   \n",
      "__________________________________________________________________________________________________\n",
      "tf.nn.relu_2 (TFOpLambda)       (None, 55, 55, 64)   0           batch_normalization_2[0][0]      \n",
      "__________________________________________________________________________________________________\n",
      "conv2d_3 (Conv2D)               (None, 55, 55, 256)  16640       tf.nn.relu_2[0][0]               \n",
      "__________________________________________________________________________________________________\n",
      "conv2d_4 (Conv2D)               (None, 55, 55, 256)  16640       max_pooling2d[0][0]              \n",
      "__________________________________________________________________________________________________\n",
      "batch_normalization_3 (BatchNor (None, 55, 55, 256)  1024        conv2d_3[0][0]                   \n",
      "__________________________________________________________________________________________________\n",
      "batch_normalization_4 (BatchNor (None, 55, 55, 256)  1024        conv2d_4[0][0]                   \n",
      "__________________________________________________________________________________________________\n",
      "add (Add)                       (None, 55, 55, 256)  0           batch_normalization_3[0][0]      \n",
      "                                                                 batch_normalization_4[0][0]      \n",
      "__________________________________________________________________________________________________\n",
      "tf.nn.relu_3 (TFOpLambda)       (None, 55, 55, 256)  0           add[0][0]                        \n",
      "__________________________________________________________________________________________________\n",
      "conv2d_5 (Conv2D)               (None, 55, 55, 64)   16448       tf.nn.relu_3[0][0]               \n",
      "__________________________________________________________________________________________________\n",
      "batch_normalization_5 (BatchNor (None, 55, 55, 64)   256         conv2d_5[0][0]                   \n",
      "__________________________________________________________________________________________________\n",
      "tf.nn.relu_4 (TFOpLambda)       (None, 55, 55, 64)   0           batch_normalization_5[0][0]      \n",
      "__________________________________________________________________________________________________\n",
      "conv2d_6 (Conv2D)               (None, 55, 55, 64)   36928       tf.nn.relu_4[0][0]               \n",
      "__________________________________________________________________________________________________\n",
      "batch_normalization_6 (BatchNor (None, 55, 55, 64)   256         conv2d_6[0][0]                   \n",
      "__________________________________________________________________________________________________\n",
      "tf.nn.relu_5 (TFOpLambda)       (None, 55, 55, 64)   0           batch_normalization_6[0][0]      \n",
      "__________________________________________________________________________________________________\n",
      "conv2d_7 (Conv2D)               (None, 55, 55, 256)  16640       tf.nn.relu_5[0][0]               \n",
      "__________________________________________________________________________________________________\n",
      "batch_normalization_7 (BatchNor (None, 55, 55, 256)  1024        conv2d_7[0][0]                   \n",
      "__________________________________________________________________________________________________\n",
      "add_1 (Add)                     (None, 55, 55, 256)  0           tf.nn.relu_3[0][0]               \n",
      "                                                                 batch_normalization_7[0][0]      \n",
      "__________________________________________________________________________________________________\n",
      "tf.nn.relu_6 (TFOpLambda)       (None, 55, 55, 256)  0           add_1[0][0]                      \n",
      "__________________________________________________________________________________________________\n",
      "conv2d_8 (Conv2D)               (None, 55, 55, 64)   16448       tf.nn.relu_6[0][0]               \n",
      "__________________________________________________________________________________________________\n",
      "batch_normalization_8 (BatchNor (None, 55, 55, 64)   256         conv2d_8[0][0]                   \n",
      "__________________________________________________________________________________________________\n",
      "tf.nn.relu_7 (TFOpLambda)       (None, 55, 55, 64)   0           batch_normalization_8[0][0]      \n",
      "__________________________________________________________________________________________________\n",
      "conv2d_9 (Conv2D)               (None, 55, 55, 64)   36928       tf.nn.relu_7[0][0]               \n",
      "__________________________________________________________________________________________________\n",
      "batch_normalization_9 (BatchNor (None, 55, 55, 64)   256         conv2d_9[0][0]                   \n",
      "__________________________________________________________________________________________________\n",
      "tf.nn.relu_8 (TFOpLambda)       (None, 55, 55, 64)   0           batch_normalization_9[0][0]      \n",
      "__________________________________________________________________________________________________\n",
      "conv2d_10 (Conv2D)              (None, 55, 55, 256)  16640       tf.nn.relu_8[0][0]               \n",
      "__________________________________________________________________________________________________\n",
      "batch_normalization_10 (BatchNo (None, 55, 55, 256)  1024        conv2d_10[0][0]                  \n",
      "__________________________________________________________________________________________________\n",
      "add_2 (Add)                     (None, 55, 55, 256)  0           tf.nn.relu_6[0][0]               \n",
      "                                                                 batch_normalization_10[0][0]     \n",
      "__________________________________________________________________________________________________\n",
      "tf.nn.relu_9 (TFOpLambda)       (None, 55, 55, 256)  0           add_2[0][0]                      \n",
      "__________________________________________________________________________________________________\n",
      "conv2d_11 (Conv2D)              (None, 28, 28, 128)  32896       tf.nn.relu_9[0][0]               \n",
      "__________________________________________________________________________________________________\n",
      "batch_normalization_11 (BatchNo (None, 28, 28, 128)  512         conv2d_11[0][0]                  \n",
      "__________________________________________________________________________________________________\n",
      "tf.nn.relu_10 (TFOpLambda)      (None, 28, 28, 128)  0           batch_normalization_11[0][0]     \n",
      "__________________________________________________________________________________________________\n",
      "conv2d_12 (Conv2D)              (None, 28, 28, 128)  147584      tf.nn.relu_10[0][0]              \n",
      "__________________________________________________________________________________________________\n",
      "batch_normalization_12 (BatchNo (None, 28, 28, 128)  512         conv2d_12[0][0]                  \n",
      "__________________________________________________________________________________________________\n",
      "tf.nn.relu_11 (TFOpLambda)      (None, 28, 28, 128)  0           batch_normalization_12[0][0]     \n",
      "__________________________________________________________________________________________________\n",
      "conv2d_13 (Conv2D)              (None, 28, 28, 512)  66048       tf.nn.relu_11[0][0]              \n",
      "__________________________________________________________________________________________________\n",
      "conv2d_14 (Conv2D)              (None, 28, 28, 512)  131584      tf.nn.relu_9[0][0]               \n",
      "__________________________________________________________________________________________________\n",
      "batch_normalization_13 (BatchNo (None, 28, 28, 512)  2048        conv2d_13[0][0]                  \n",
      "__________________________________________________________________________________________________\n",
      "batch_normalization_14 (BatchNo (None, 28, 28, 512)  2048        conv2d_14[0][0]                  \n",
      "__________________________________________________________________________________________________\n",
      "add_3 (Add)                     (None, 28, 28, 512)  0           batch_normalization_13[0][0]     \n",
      "                                                                 batch_normalization_14[0][0]     \n",
      "__________________________________________________________________________________________________\n",
      "tf.nn.relu_12 (TFOpLambda)      (None, 28, 28, 512)  0           add_3[0][0]                      \n",
      "__________________________________________________________________________________________________\n",
      "conv2d_15 (Conv2D)              (None, 28, 28, 128)  65664       tf.nn.relu_12[0][0]              \n",
      "__________________________________________________________________________________________________\n",
      "batch_normalization_15 (BatchNo (None, 28, 28, 128)  512         conv2d_15[0][0]                  \n",
      "__________________________________________________________________________________________________\n",
      "tf.nn.relu_13 (TFOpLambda)      (None, 28, 28, 128)  0           batch_normalization_15[0][0]     \n",
      "__________________________________________________________________________________________________\n",
      "conv2d_16 (Conv2D)              (None, 28, 28, 128)  147584      tf.nn.relu_13[0][0]              \n",
      "__________________________________________________________________________________________________\n",
      "batch_normalization_16 (BatchNo (None, 28, 28, 128)  512         conv2d_16[0][0]                  \n",
      "__________________________________________________________________________________________________\n",
      "tf.nn.relu_14 (TFOpLambda)      (None, 28, 28, 128)  0           batch_normalization_16[0][0]     \n",
      "__________________________________________________________________________________________________\n",
      "conv2d_17 (Conv2D)              (None, 28, 28, 512)  66048       tf.nn.relu_14[0][0]              \n",
      "__________________________________________________________________________________________________\n",
      "batch_normalization_17 (BatchNo (None, 28, 28, 512)  2048        conv2d_17[0][0]                  \n",
      "__________________________________________________________________________________________________\n",
      "add_4 (Add)                     (None, 28, 28, 512)  0           tf.nn.relu_12[0][0]              \n",
      "                                                                 batch_normalization_17[0][0]     \n",
      "__________________________________________________________________________________________________\n",
      "tf.nn.relu_15 (TFOpLambda)      (None, 28, 28, 512)  0           add_4[0][0]                      \n",
      "__________________________________________________________________________________________________\n",
      "conv2d_18 (Conv2D)              (None, 28, 28, 128)  65664       tf.nn.relu_15[0][0]              \n",
      "__________________________________________________________________________________________________\n",
      "batch_normalization_18 (BatchNo (None, 28, 28, 128)  512         conv2d_18[0][0]                  \n",
      "__________________________________________________________________________________________________\n",
      "tf.nn.relu_16 (TFOpLambda)      (None, 28, 28, 128)  0           batch_normalization_18[0][0]     \n",
      "__________________________________________________________________________________________________\n",
      "conv2d_19 (Conv2D)              (None, 28, 28, 128)  147584      tf.nn.relu_16[0][0]              \n",
      "__________________________________________________________________________________________________\n",
      "batch_normalization_19 (BatchNo (None, 28, 28, 128)  512         conv2d_19[0][0]                  \n",
      "__________________________________________________________________________________________________\n",
      "tf.nn.relu_17 (TFOpLambda)      (None, 28, 28, 128)  0           batch_normalization_19[0][0]     \n",
      "__________________________________________________________________________________________________\n",
      "conv2d_20 (Conv2D)              (None, 28, 28, 512)  66048       tf.nn.relu_17[0][0]              \n",
      "__________________________________________________________________________________________________\n",
      "batch_normalization_20 (BatchNo (None, 28, 28, 512)  2048        conv2d_20[0][0]                  \n",
      "__________________________________________________________________________________________________\n",
      "add_5 (Add)                     (None, 28, 28, 512)  0           tf.nn.relu_15[0][0]              \n",
      "                                                                 batch_normalization_20[0][0]     \n",
      "__________________________________________________________________________________________________\n",
      "tf.nn.relu_18 (TFOpLambda)      (None, 28, 28, 512)  0           add_5[0][0]                      \n",
      "==================================================================================================\n",
      "Total params: 1,170,048\n",
      "Trainable params: 1,161,472\n",
      "Non-trainable params: 8,576\n",
      "__________________________________________________________________________________________________\n"
     ]
    }
   ],
   "source": [
    "mod = enco()\n",
    "print(mod.output.shape)\n",
    "mod.summary()"
   ]
  },
  {
   "cell_type": "code",
   "execution_count": 15,
   "id": "333339ca",
   "metadata": {
    "execution": {
     "iopub.execute_input": "2022-02-22T19:10:54.932696Z",
     "iopub.status.busy": "2022-02-22T19:10:54.931899Z",
     "iopub.status.idle": "2022-02-22T19:10:54.936024Z",
     "shell.execute_reply": "2022-02-22T19:10:54.935635Z",
     "shell.execute_reply.started": "2022-02-22T19:03:20.048737Z"
    },
    "papermill": {
     "duration": 0.040585,
     "end_time": "2022-02-22T19:10:54.936137",
     "exception": false,
     "start_time": "2022-02-22T19:10:54.895552",
     "status": "completed"
    },
    "tags": []
   },
   "outputs": [],
   "source": [
    "def deco(input_shape=(28,28,512)):\n",
    "    \n",
    "    X_inp = tf.keras.Input(shape=input_shape)\n",
    "    \n",
    "    X = Trans_conv_block(X_inp, 3, [256, 256, 128], s=2, training=True)\n",
    "    X = identity_block(X, 3, [256, 128, 128])\n",
    "    X = identity_block(X, 3, [256, 128, 128])\n",
    "    \n",
    "    X = Trans_conv_block(X, 3, [128, 64, 64], s=1, training=True)\n",
    "    X = identity_block(X, 3, [128, 64, 64])\n",
    "    X = identity_block(X, 3, [128, 64, 64])\n",
    "    \n",
    "    #X = Conv2DTranspose(64, (7,7), strides = (2,2), padding='valid')(X)\n",
    "    X = Trans_conv_block(X, 3, [64, 32, 32], s=2, training=True)\n",
    "    X = identity_block(X, 3, [64, 32, 32])\n",
    "    X = identity_block(X, 3, [64, 32, 32])\n",
    "    \n",
    "    X = Trans_conv_block(X, 11, [64, 32, 32], s=2, training=True)\n",
    "    X = Conv2D(filters=3 , kernel_size = 1, strides = 1, padding='valid')(X)\n",
    "    \n",
    "    model = tf.keras.Model(inputs=X_inp,outputs=X)\n",
    "    \n",
    "    return model   "
   ]
  },
  {
   "cell_type": "code",
   "execution_count": 16,
   "id": "583e636e",
   "metadata": {
    "execution": {
     "iopub.execute_input": "2022-02-22T19:10:55.004215Z",
     "iopub.status.busy": "2022-02-22T19:10:54.999416Z",
     "iopub.status.idle": "2022-02-22T19:10:55.806583Z",
     "shell.execute_reply": "2022-02-22T19:10:55.805869Z",
     "shell.execute_reply.started": "2022-02-22T19:03:20.061116Z"
    },
    "papermill": {
     "duration": 0.841858,
     "end_time": "2022-02-22T19:10:55.806767",
     "exception": false,
     "start_time": "2022-02-22T19:10:54.964909",
     "status": "completed"
    },
    "tags": []
   },
   "outputs": [
    {
     "name": "stdout",
     "output_type": "stream",
     "text": [
      "(None, 224, 224, 3)\n",
      "Model: \"model_1\"\n",
      "__________________________________________________________________________________________________\n",
      "Layer (type)                    Output Shape         Param #     Connected to                     \n",
      "==================================================================================================\n",
      "input_2 (InputLayer)            [(None, 28, 28, 512) 0                                            \n",
      "__________________________________________________________________________________________________\n",
      "conv2d_transpose (Conv2DTranspo (None, 56, 56, 256)  131328      input_2[0][0]                    \n",
      "__________________________________________________________________________________________________\n",
      "batch_normalization_21 (BatchNo (None, 56, 56, 256)  1024        conv2d_transpose[0][0]           \n",
      "__________________________________________________________________________________________________\n",
      "tf.nn.relu_19 (TFOpLambda)      (None, 56, 56, 256)  0           batch_normalization_21[0][0]     \n",
      "__________________________________________________________________________________________________\n",
      "conv2d_transpose_1 (Conv2DTrans (None, 56, 56, 256)  590080      tf.nn.relu_19[0][0]              \n",
      "__________________________________________________________________________________________________\n",
      "batch_normalization_22 (BatchNo (None, 56, 56, 256)  1024        conv2d_transpose_1[0][0]         \n",
      "__________________________________________________________________________________________________\n",
      "tf.nn.relu_20 (TFOpLambda)      (None, 56, 56, 256)  0           batch_normalization_22[0][0]     \n",
      "__________________________________________________________________________________________________\n",
      "conv2d_transpose_2 (Conv2DTrans (None, 56, 56, 128)  32896       tf.nn.relu_20[0][0]              \n",
      "__________________________________________________________________________________________________\n",
      "conv2d_transpose_3 (Conv2DTrans (None, 56, 56, 128)  65664       input_2[0][0]                    \n",
      "__________________________________________________________________________________________________\n",
      "batch_normalization_23 (BatchNo (None, 56, 56, 128)  512         conv2d_transpose_2[0][0]         \n",
      "__________________________________________________________________________________________________\n",
      "batch_normalization_24 (BatchNo (None, 56, 56, 128)  512         conv2d_transpose_3[0][0]         \n",
      "__________________________________________________________________________________________________\n",
      "add_6 (Add)                     (None, 56, 56, 128)  0           batch_normalization_23[0][0]     \n",
      "                                                                 batch_normalization_24[0][0]     \n",
      "__________________________________________________________________________________________________\n",
      "tf.nn.relu_21 (TFOpLambda)      (None, 56, 56, 128)  0           add_6[0][0]                      \n",
      "__________________________________________________________________________________________________\n",
      "conv2d_21 (Conv2D)              (None, 56, 56, 256)  33024       tf.nn.relu_21[0][0]              \n",
      "__________________________________________________________________________________________________\n",
      "batch_normalization_25 (BatchNo (None, 56, 56, 256)  1024        conv2d_21[0][0]                  \n",
      "__________________________________________________________________________________________________\n",
      "tf.nn.relu_22 (TFOpLambda)      (None, 56, 56, 256)  0           batch_normalization_25[0][0]     \n",
      "__________________________________________________________________________________________________\n",
      "conv2d_22 (Conv2D)              (None, 56, 56, 128)  295040      tf.nn.relu_22[0][0]              \n",
      "__________________________________________________________________________________________________\n",
      "batch_normalization_26 (BatchNo (None, 56, 56, 128)  512         conv2d_22[0][0]                  \n",
      "__________________________________________________________________________________________________\n",
      "tf.nn.relu_23 (TFOpLambda)      (None, 56, 56, 128)  0           batch_normalization_26[0][0]     \n",
      "__________________________________________________________________________________________________\n",
      "conv2d_23 (Conv2D)              (None, 56, 56, 128)  16512       tf.nn.relu_23[0][0]              \n",
      "__________________________________________________________________________________________________\n",
      "batch_normalization_27 (BatchNo (None, 56, 56, 128)  512         conv2d_23[0][0]                  \n",
      "__________________________________________________________________________________________________\n",
      "add_7 (Add)                     (None, 56, 56, 128)  0           tf.nn.relu_21[0][0]              \n",
      "                                                                 batch_normalization_27[0][0]     \n",
      "__________________________________________________________________________________________________\n",
      "tf.nn.relu_24 (TFOpLambda)      (None, 56, 56, 128)  0           add_7[0][0]                      \n",
      "__________________________________________________________________________________________________\n",
      "conv2d_24 (Conv2D)              (None, 56, 56, 256)  33024       tf.nn.relu_24[0][0]              \n",
      "__________________________________________________________________________________________________\n",
      "batch_normalization_28 (BatchNo (None, 56, 56, 256)  1024        conv2d_24[0][0]                  \n",
      "__________________________________________________________________________________________________\n",
      "tf.nn.relu_25 (TFOpLambda)      (None, 56, 56, 256)  0           batch_normalization_28[0][0]     \n",
      "__________________________________________________________________________________________________\n",
      "conv2d_25 (Conv2D)              (None, 56, 56, 128)  295040      tf.nn.relu_25[0][0]              \n",
      "__________________________________________________________________________________________________\n",
      "batch_normalization_29 (BatchNo (None, 56, 56, 128)  512         conv2d_25[0][0]                  \n",
      "__________________________________________________________________________________________________\n",
      "tf.nn.relu_26 (TFOpLambda)      (None, 56, 56, 128)  0           batch_normalization_29[0][0]     \n",
      "__________________________________________________________________________________________________\n",
      "conv2d_26 (Conv2D)              (None, 56, 56, 128)  16512       tf.nn.relu_26[0][0]              \n",
      "__________________________________________________________________________________________________\n",
      "batch_normalization_30 (BatchNo (None, 56, 56, 128)  512         conv2d_26[0][0]                  \n",
      "__________________________________________________________________________________________________\n",
      "add_8 (Add)                     (None, 56, 56, 128)  0           tf.nn.relu_24[0][0]              \n",
      "                                                                 batch_normalization_30[0][0]     \n",
      "__________________________________________________________________________________________________\n",
      "tf.nn.relu_27 (TFOpLambda)      (None, 56, 56, 128)  0           add_8[0][0]                      \n",
      "__________________________________________________________________________________________________\n",
      "conv2d_transpose_4 (Conv2DTrans (None, 56, 56, 128)  16512       tf.nn.relu_27[0][0]              \n",
      "__________________________________________________________________________________________________\n",
      "batch_normalization_31 (BatchNo (None, 56, 56, 128)  512         conv2d_transpose_4[0][0]         \n",
      "__________________________________________________________________________________________________\n",
      "tf.nn.relu_28 (TFOpLambda)      (None, 56, 56, 128)  0           batch_normalization_31[0][0]     \n",
      "__________________________________________________________________________________________________\n",
      "conv2d_transpose_5 (Conv2DTrans (None, 56, 56, 64)   73792       tf.nn.relu_28[0][0]              \n",
      "__________________________________________________________________________________________________\n",
      "batch_normalization_32 (BatchNo (None, 56, 56, 64)   256         conv2d_transpose_5[0][0]         \n",
      "__________________________________________________________________________________________________\n",
      "tf.nn.relu_29 (TFOpLambda)      (None, 56, 56, 64)   0           batch_normalization_32[0][0]     \n",
      "__________________________________________________________________________________________________\n",
      "conv2d_transpose_6 (Conv2DTrans (None, 56, 56, 64)   4160        tf.nn.relu_29[0][0]              \n",
      "__________________________________________________________________________________________________\n",
      "conv2d_transpose_7 (Conv2DTrans (None, 56, 56, 64)   8256        tf.nn.relu_27[0][0]              \n",
      "__________________________________________________________________________________________________\n",
      "batch_normalization_33 (BatchNo (None, 56, 56, 64)   256         conv2d_transpose_6[0][0]         \n",
      "__________________________________________________________________________________________________\n",
      "batch_normalization_34 (BatchNo (None, 56, 56, 64)   256         conv2d_transpose_7[0][0]         \n",
      "__________________________________________________________________________________________________\n",
      "add_9 (Add)                     (None, 56, 56, 64)   0           batch_normalization_33[0][0]     \n",
      "                                                                 batch_normalization_34[0][0]     \n",
      "__________________________________________________________________________________________________\n",
      "tf.nn.relu_30 (TFOpLambda)      (None, 56, 56, 64)   0           add_9[0][0]                      \n",
      "__________________________________________________________________________________________________\n",
      "conv2d_27 (Conv2D)              (None, 56, 56, 128)  8320        tf.nn.relu_30[0][0]              \n",
      "__________________________________________________________________________________________________\n",
      "batch_normalization_35 (BatchNo (None, 56, 56, 128)  512         conv2d_27[0][0]                  \n",
      "__________________________________________________________________________________________________\n",
      "tf.nn.relu_31 (TFOpLambda)      (None, 56, 56, 128)  0           batch_normalization_35[0][0]     \n",
      "__________________________________________________________________________________________________\n",
      "conv2d_28 (Conv2D)              (None, 56, 56, 64)   73792       tf.nn.relu_31[0][0]              \n",
      "__________________________________________________________________________________________________\n",
      "batch_normalization_36 (BatchNo (None, 56, 56, 64)   256         conv2d_28[0][0]                  \n",
      "__________________________________________________________________________________________________\n",
      "tf.nn.relu_32 (TFOpLambda)      (None, 56, 56, 64)   0           batch_normalization_36[0][0]     \n",
      "__________________________________________________________________________________________________\n",
      "conv2d_29 (Conv2D)              (None, 56, 56, 64)   4160        tf.nn.relu_32[0][0]              \n",
      "__________________________________________________________________________________________________\n",
      "batch_normalization_37 (BatchNo (None, 56, 56, 64)   256         conv2d_29[0][0]                  \n",
      "__________________________________________________________________________________________________\n",
      "add_10 (Add)                    (None, 56, 56, 64)   0           tf.nn.relu_30[0][0]              \n",
      "                                                                 batch_normalization_37[0][0]     \n",
      "__________________________________________________________________________________________________\n",
      "tf.nn.relu_33 (TFOpLambda)      (None, 56, 56, 64)   0           add_10[0][0]                     \n",
      "__________________________________________________________________________________________________\n",
      "conv2d_30 (Conv2D)              (None, 56, 56, 128)  8320        tf.nn.relu_33[0][0]              \n",
      "__________________________________________________________________________________________________\n",
      "batch_normalization_38 (BatchNo (None, 56, 56, 128)  512         conv2d_30[0][0]                  \n",
      "__________________________________________________________________________________________________\n",
      "tf.nn.relu_34 (TFOpLambda)      (None, 56, 56, 128)  0           batch_normalization_38[0][0]     \n",
      "__________________________________________________________________________________________________\n",
      "conv2d_31 (Conv2D)              (None, 56, 56, 64)   73792       tf.nn.relu_34[0][0]              \n",
      "__________________________________________________________________________________________________\n",
      "batch_normalization_39 (BatchNo (None, 56, 56, 64)   256         conv2d_31[0][0]                  \n",
      "__________________________________________________________________________________________________\n",
      "tf.nn.relu_35 (TFOpLambda)      (None, 56, 56, 64)   0           batch_normalization_39[0][0]     \n",
      "__________________________________________________________________________________________________\n",
      "conv2d_32 (Conv2D)              (None, 56, 56, 64)   4160        tf.nn.relu_35[0][0]              \n",
      "__________________________________________________________________________________________________\n",
      "batch_normalization_40 (BatchNo (None, 56, 56, 64)   256         conv2d_32[0][0]                  \n",
      "__________________________________________________________________________________________________\n",
      "add_11 (Add)                    (None, 56, 56, 64)   0           tf.nn.relu_33[0][0]              \n",
      "                                                                 batch_normalization_40[0][0]     \n",
      "__________________________________________________________________________________________________\n",
      "tf.nn.relu_36 (TFOpLambda)      (None, 56, 56, 64)   0           add_11[0][0]                     \n",
      "__________________________________________________________________________________________________\n",
      "conv2d_transpose_8 (Conv2DTrans (None, 112, 112, 64) 4160        tf.nn.relu_36[0][0]              \n",
      "__________________________________________________________________________________________________\n",
      "batch_normalization_41 (BatchNo (None, 112, 112, 64) 256         conv2d_transpose_8[0][0]         \n",
      "__________________________________________________________________________________________________\n",
      "tf.nn.relu_37 (TFOpLambda)      (None, 112, 112, 64) 0           batch_normalization_41[0][0]     \n",
      "__________________________________________________________________________________________________\n",
      "conv2d_transpose_9 (Conv2DTrans (None, 112, 112, 32) 18464       tf.nn.relu_37[0][0]              \n",
      "__________________________________________________________________________________________________\n",
      "batch_normalization_42 (BatchNo (None, 112, 112, 32) 128         conv2d_transpose_9[0][0]         \n",
      "__________________________________________________________________________________________________\n",
      "tf.nn.relu_38 (TFOpLambda)      (None, 112, 112, 32) 0           batch_normalization_42[0][0]     \n",
      "__________________________________________________________________________________________________\n",
      "conv2d_transpose_10 (Conv2DTran (None, 112, 112, 32) 1056        tf.nn.relu_38[0][0]              \n",
      "__________________________________________________________________________________________________\n",
      "conv2d_transpose_11 (Conv2DTran (None, 112, 112, 32) 2080        tf.nn.relu_36[0][0]              \n",
      "__________________________________________________________________________________________________\n",
      "batch_normalization_43 (BatchNo (None, 112, 112, 32) 128         conv2d_transpose_10[0][0]        \n",
      "__________________________________________________________________________________________________\n",
      "batch_normalization_44 (BatchNo (None, 112, 112, 32) 128         conv2d_transpose_11[0][0]        \n",
      "__________________________________________________________________________________________________\n",
      "add_12 (Add)                    (None, 112, 112, 32) 0           batch_normalization_43[0][0]     \n",
      "                                                                 batch_normalization_44[0][0]     \n",
      "__________________________________________________________________________________________________\n",
      "tf.nn.relu_39 (TFOpLambda)      (None, 112, 112, 32) 0           add_12[0][0]                     \n",
      "__________________________________________________________________________________________________\n",
      "conv2d_33 (Conv2D)              (None, 112, 112, 64) 2112        tf.nn.relu_39[0][0]              \n",
      "__________________________________________________________________________________________________\n",
      "batch_normalization_45 (BatchNo (None, 112, 112, 64) 256         conv2d_33[0][0]                  \n",
      "__________________________________________________________________________________________________\n",
      "tf.nn.relu_40 (TFOpLambda)      (None, 112, 112, 64) 0           batch_normalization_45[0][0]     \n",
      "__________________________________________________________________________________________________\n",
      "conv2d_34 (Conv2D)              (None, 112, 112, 32) 18464       tf.nn.relu_40[0][0]              \n",
      "__________________________________________________________________________________________________\n",
      "batch_normalization_46 (BatchNo (None, 112, 112, 32) 128         conv2d_34[0][0]                  \n",
      "__________________________________________________________________________________________________\n",
      "tf.nn.relu_41 (TFOpLambda)      (None, 112, 112, 32) 0           batch_normalization_46[0][0]     \n",
      "__________________________________________________________________________________________________\n",
      "conv2d_35 (Conv2D)              (None, 112, 112, 32) 1056        tf.nn.relu_41[0][0]              \n",
      "__________________________________________________________________________________________________\n",
      "batch_normalization_47 (BatchNo (None, 112, 112, 32) 128         conv2d_35[0][0]                  \n",
      "__________________________________________________________________________________________________\n",
      "add_13 (Add)                    (None, 112, 112, 32) 0           tf.nn.relu_39[0][0]              \n",
      "                                                                 batch_normalization_47[0][0]     \n",
      "__________________________________________________________________________________________________\n",
      "tf.nn.relu_42 (TFOpLambda)      (None, 112, 112, 32) 0           add_13[0][0]                     \n",
      "__________________________________________________________________________________________________\n",
      "conv2d_36 (Conv2D)              (None, 112, 112, 64) 2112        tf.nn.relu_42[0][0]              \n",
      "__________________________________________________________________________________________________\n",
      "batch_normalization_48 (BatchNo (None, 112, 112, 64) 256         conv2d_36[0][0]                  \n",
      "__________________________________________________________________________________________________\n",
      "tf.nn.relu_43 (TFOpLambda)      (None, 112, 112, 64) 0           batch_normalization_48[0][0]     \n",
      "__________________________________________________________________________________________________\n",
      "conv2d_37 (Conv2D)              (None, 112, 112, 32) 18464       tf.nn.relu_43[0][0]              \n",
      "__________________________________________________________________________________________________\n",
      "batch_normalization_49 (BatchNo (None, 112, 112, 32) 128         conv2d_37[0][0]                  \n",
      "__________________________________________________________________________________________________\n",
      "tf.nn.relu_44 (TFOpLambda)      (None, 112, 112, 32) 0           batch_normalization_49[0][0]     \n",
      "__________________________________________________________________________________________________\n",
      "conv2d_38 (Conv2D)              (None, 112, 112, 32) 1056        tf.nn.relu_44[0][0]              \n",
      "__________________________________________________________________________________________________\n",
      "batch_normalization_50 (BatchNo (None, 112, 112, 32) 128         conv2d_38[0][0]                  \n",
      "__________________________________________________________________________________________________\n",
      "add_14 (Add)                    (None, 112, 112, 32) 0           tf.nn.relu_42[0][0]              \n",
      "                                                                 batch_normalization_50[0][0]     \n",
      "__________________________________________________________________________________________________\n",
      "tf.nn.relu_45 (TFOpLambda)      (None, 112, 112, 32) 0           add_14[0][0]                     \n",
      "__________________________________________________________________________________________________\n",
      "conv2d_transpose_12 (Conv2DTran (None, 224, 224, 64) 2112        tf.nn.relu_45[0][0]              \n",
      "__________________________________________________________________________________________________\n",
      "batch_normalization_51 (BatchNo (None, 224, 224, 64) 256         conv2d_transpose_12[0][0]        \n",
      "__________________________________________________________________________________________________\n",
      "tf.nn.relu_46 (TFOpLambda)      (None, 224, 224, 64) 0           batch_normalization_51[0][0]     \n",
      "__________________________________________________________________________________________________\n",
      "conv2d_transpose_13 (Conv2DTran (None, 224, 224, 32) 247840      tf.nn.relu_46[0][0]              \n",
      "__________________________________________________________________________________________________\n",
      "batch_normalization_52 (BatchNo (None, 224, 224, 32) 128         conv2d_transpose_13[0][0]        \n",
      "__________________________________________________________________________________________________\n",
      "tf.nn.relu_47 (TFOpLambda)      (None, 224, 224, 32) 0           batch_normalization_52[0][0]     \n",
      "__________________________________________________________________________________________________\n",
      "conv2d_transpose_14 (Conv2DTran (None, 224, 224, 32) 1056        tf.nn.relu_47[0][0]              \n",
      "__________________________________________________________________________________________________\n",
      "conv2d_transpose_15 (Conv2DTran (None, 224, 224, 32) 1056        tf.nn.relu_45[0][0]              \n",
      "__________________________________________________________________________________________________\n",
      "batch_normalization_53 (BatchNo (None, 224, 224, 32) 128         conv2d_transpose_14[0][0]        \n",
      "__________________________________________________________________________________________________\n",
      "batch_normalization_54 (BatchNo (None, 224, 224, 32) 128         conv2d_transpose_15[0][0]        \n",
      "__________________________________________________________________________________________________\n",
      "add_15 (Add)                    (None, 224, 224, 32) 0           batch_normalization_53[0][0]     \n",
      "                                                                 batch_normalization_54[0][0]     \n",
      "__________________________________________________________________________________________________\n",
      "tf.nn.relu_48 (TFOpLambda)      (None, 224, 224, 32) 0           add_15[0][0]                     \n",
      "__________________________________________________________________________________________________\n",
      "conv2d_39 (Conv2D)              (None, 224, 224, 3)  99          tf.nn.relu_48[0][0]              \n",
      "==================================================================================================\n",
      "Total params: 2,118,371\n",
      "Trainable params: 2,111,971\n",
      "Non-trainable params: 6,400\n",
      "__________________________________________________________________________________________________\n"
     ]
    }
   ],
   "source": [
    "mod = deco()\n",
    "print(mod.output.shape)\n",
    "mod.summary()"
   ]
  },
  {
   "cell_type": "code",
   "execution_count": 17,
   "id": "efe88f4e",
   "metadata": {
    "execution": {
     "iopub.execute_input": "2022-02-22T19:10:55.913182Z",
     "iopub.status.busy": "2022-02-22T19:10:55.912437Z",
     "iopub.status.idle": "2022-02-22T19:10:55.915951Z",
     "shell.execute_reply": "2022-02-22T19:10:55.916898Z",
     "shell.execute_reply.started": "2022-02-22T19:03:20.731049Z"
    },
    "papermill": {
     "duration": 0.061037,
     "end_time": "2022-02-22T19:10:55.917067",
     "exception": false,
     "start_time": "2022-02-22T19:10:55.856030",
     "status": "completed"
    },
    "tags": []
   },
   "outputs": [],
   "source": [
    "class Autoencoder(tf.keras.Model):\n",
    "    \n",
    "    def __init__(self):\n",
    "        super(Autoencoder, self).__init__()\n",
    "        self.encoder = enco(input_shape=(224,224,3))\n",
    "        self.decoder = deco(input_shape=(28,28,512)) \n",
    "        \n",
    "    def call(self, x):\n",
    "        encoded = self.encoder(x)\n",
    "        decoded = self.decoder(encoded)\n",
    "        return decoded"
   ]
  },
  {
   "cell_type": "code",
   "execution_count": 18,
   "id": "83faddf6",
   "metadata": {
    "execution": {
     "iopub.execute_input": "2022-02-22T19:10:56.020337Z",
     "iopub.status.busy": "2022-02-22T19:10:56.019510Z",
     "iopub.status.idle": "2022-02-22T19:10:57.026328Z",
     "shell.execute_reply": "2022-02-22T19:10:57.025719Z",
     "shell.execute_reply.started": "2022-02-22T19:03:20.739625Z"
    },
    "papermill": {
     "duration": 1.060761,
     "end_time": "2022-02-22T19:10:57.026471",
     "exception": false,
     "start_time": "2022-02-22T19:10:55.965710",
     "status": "completed"
    },
    "tags": []
   },
   "outputs": [],
   "source": [
    "autoencoder = Autoencoder()\n",
    "autoencoder.compile(optimizer='adam', loss = 'MeanSquaredError')"
   ]
  },
  {
   "cell_type": "code",
   "execution_count": 19,
   "id": "96039700",
   "metadata": {
    "execution": {
     "iopub.execute_input": "2022-02-22T19:10:57.109231Z",
     "iopub.status.busy": "2022-02-22T19:10:57.096722Z",
     "iopub.status.idle": "2022-02-22T19:10:57.132233Z",
     "shell.execute_reply": "2022-02-22T19:10:57.131767Z",
     "shell.execute_reply.started": "2022-02-22T19:03:21.698186Z"
    },
    "papermill": {
     "duration": 0.073434,
     "end_time": "2022-02-22T19:10:57.132384",
     "exception": false,
     "start_time": "2022-02-22T19:10:57.058950",
     "status": "completed"
    },
    "tags": []
   },
   "outputs": [],
   "source": [
    "tds = encotds.map(lambda x : (x,x))\n",
    "vds = encovds.map(lambda x : (x,x))"
   ]
  },
  {
   "cell_type": "code",
   "execution_count": 20,
   "id": "5c7fc463",
   "metadata": {
    "execution": {
     "iopub.execute_input": "2022-02-22T19:10:57.205544Z",
     "iopub.status.busy": "2022-02-22T19:10:57.204639Z",
     "iopub.status.idle": "2022-02-22T19:10:57.206671Z",
     "shell.execute_reply": "2022-02-22T19:10:57.207131Z",
     "shell.execute_reply.started": "2022-02-22T19:03:21.737876Z"
    },
    "papermill": {
     "duration": 0.040844,
     "end_time": "2022-02-22T19:10:57.207275",
     "exception": false,
     "start_time": "2022-02-22T19:10:57.166431",
     "status": "completed"
    },
    "tags": []
   },
   "outputs": [],
   "source": [
    "filepath = \"Checkpoint/cp.ckpt\"\n",
    "checkpoint = ModelCheckpoint(filepath, monitor='val_loss', verbose=1, save_best_only=True, mode='min')\n"
   ]
  },
  {
   "cell_type": "code",
   "execution_count": 21,
   "id": "a3d9b85f",
   "metadata": {
    "execution": {
     "iopub.execute_input": "2022-02-22T19:10:57.350857Z",
     "iopub.status.busy": "2022-02-22T19:10:57.350094Z",
     "iopub.status.idle": "2022-02-23T01:16:48.786305Z",
     "shell.execute_reply": "2022-02-23T01:16:48.786789Z",
     "shell.execute_reply.started": "2022-02-22T19:03:21.744081Z"
    },
    "papermill": {
     "duration": 21951.531084,
     "end_time": "2022-02-23T01:16:48.787035",
     "exception": false,
     "start_time": "2022-02-22T19:10:57.255951",
     "status": "completed"
    },
    "tags": []
   },
   "outputs": [
    {
     "name": "stderr",
     "output_type": "stream",
     "text": [
      "2022-02-22 19:10:57.385928: I tensorflow/compiler/mlir/mlir_graph_optimization_pass.cc:185] None of the MLIR Optimization Passes are enabled (registered 2)\n"
     ]
    },
    {
     "name": "stdout",
     "output_type": "stream",
     "text": [
      "Epoch 1/150\n"
     ]
    },
    {
     "name": "stderr",
     "output_type": "stream",
     "text": [
      "2022-02-22 19:11:03.660435: I tensorflow/stream_executor/cuda/cuda_dnn.cc:369] Loaded cuDNN version 8005\n"
     ]
    },
    {
     "name": "stdout",
     "output_type": "stream",
     "text": [
      "287/287 [==============================] - 147s 454ms/step - loss: 19382.1543 - val_loss: 17371.5215\n",
      "\n",
      "Epoch 00001: val_loss improved from inf to 17371.52148, saving model to Checkpoint/cp.ckpt\n"
     ]
    },
    {
     "name": "stderr",
     "output_type": "stream",
     "text": [
      "2022-02-22 19:13:37.854507: W tensorflow/python/util/util.cc:348] Sets are not currently considered sequences, but this may change in the future, so consider avoiding using them.\n",
      "/opt/conda/lib/python3.7/site-packages/keras/utils/generic_utils.py:497: CustomMaskWarning: Custom mask layers require a config and must override get_config. When loading, the custom mask layer must be passed to the custom_objects argument.\n",
      "  category=CustomMaskWarning)\n"
     ]
    },
    {
     "name": "stdout",
     "output_type": "stream",
     "text": [
      "Epoch 2/150\n",
      "287/287 [==============================] - 125s 434ms/step - loss: 13753.5361 - val_loss: 10255.3574\n",
      "\n",
      "Epoch 00002: val_loss improved from 17371.52148 to 10255.35742, saving model to Checkpoint/cp.ckpt\n"
     ]
    },
    {
     "name": "stderr",
     "output_type": "stream",
     "text": [
      "/opt/conda/lib/python3.7/site-packages/keras/utils/generic_utils.py:497: CustomMaskWarning: Custom mask layers require a config and must override get_config. When loading, the custom mask layer must be passed to the custom_objects argument.\n",
      "  category=CustomMaskWarning)\n"
     ]
    },
    {
     "name": "stdout",
     "output_type": "stream",
     "text": [
      "Epoch 3/150\n",
      "287/287 [==============================] - 125s 433ms/step - loss: 6589.3359 - val_loss: 3823.5215\n",
      "\n",
      "Epoch 00003: val_loss improved from 10255.35742 to 3823.52148, saving model to Checkpoint/cp.ckpt\n"
     ]
    },
    {
     "name": "stderr",
     "output_type": "stream",
     "text": [
      "/opt/conda/lib/python3.7/site-packages/keras/utils/generic_utils.py:497: CustomMaskWarning: Custom mask layers require a config and must override get_config. When loading, the custom mask layer must be passed to the custom_objects argument.\n",
      "  category=CustomMaskWarning)\n"
     ]
    },
    {
     "name": "stdout",
     "output_type": "stream",
     "text": [
      "Epoch 4/150\n",
      "287/287 [==============================] - 125s 433ms/step - loss: 2041.1158 - val_loss: 914.6367\n",
      "\n",
      "Epoch 00004: val_loss improved from 3823.52148 to 914.63666, saving model to Checkpoint/cp.ckpt\n"
     ]
    },
    {
     "name": "stderr",
     "output_type": "stream",
     "text": [
      "/opt/conda/lib/python3.7/site-packages/keras/utils/generic_utils.py:497: CustomMaskWarning: Custom mask layers require a config and must override get_config. When loading, the custom mask layer must be passed to the custom_objects argument.\n",
      "  category=CustomMaskWarning)\n"
     ]
    },
    {
     "name": "stdout",
     "output_type": "stream",
     "text": [
      "Epoch 5/150\n",
      "287/287 [==============================] - 126s 434ms/step - loss: 409.1430 - val_loss: 175.9470\n",
      "\n",
      "Epoch 00005: val_loss improved from 914.63666 to 175.94704, saving model to Checkpoint/cp.ckpt\n"
     ]
    },
    {
     "name": "stderr",
     "output_type": "stream",
     "text": [
      "/opt/conda/lib/python3.7/site-packages/keras/utils/generic_utils.py:497: CustomMaskWarning: Custom mask layers require a config and must override get_config. When loading, the custom mask layer must be passed to the custom_objects argument.\n",
      "  category=CustomMaskWarning)\n"
     ]
    },
    {
     "name": "stdout",
     "output_type": "stream",
     "text": [
      "Epoch 6/150\n",
      "287/287 [==============================] - 126s 434ms/step - loss: 93.3612 - val_loss: 68.6626\n",
      "\n",
      "Epoch 00006: val_loss improved from 175.94704 to 68.66264, saving model to Checkpoint/cp.ckpt\n"
     ]
    },
    {
     "name": "stderr",
     "output_type": "stream",
     "text": [
      "/opt/conda/lib/python3.7/site-packages/keras/utils/generic_utils.py:497: CustomMaskWarning: Custom mask layers require a config and must override get_config. When loading, the custom mask layer must be passed to the custom_objects argument.\n",
      "  category=CustomMaskWarning)\n"
     ]
    },
    {
     "name": "stdout",
     "output_type": "stream",
     "text": [
      "Epoch 7/150\n",
      "287/287 [==============================] - 125s 434ms/step - loss: 57.9504 - val_loss: 50.5541\n",
      "\n",
      "Epoch 00007: val_loss improved from 68.66264 to 50.55405, saving model to Checkpoint/cp.ckpt\n"
     ]
    },
    {
     "name": "stderr",
     "output_type": "stream",
     "text": [
      "/opt/conda/lib/python3.7/site-packages/keras/utils/generic_utils.py:497: CustomMaskWarning: Custom mask layers require a config and must override get_config. When loading, the custom mask layer must be passed to the custom_objects argument.\n",
      "  category=CustomMaskWarning)\n"
     ]
    },
    {
     "name": "stdout",
     "output_type": "stream",
     "text": [
      "Epoch 8/150\n",
      "287/287 [==============================] - 126s 435ms/step - loss: 50.2373 - val_loss: 46.1107\n",
      "\n",
      "Epoch 00008: val_loss improved from 50.55405 to 46.11071, saving model to Checkpoint/cp.ckpt\n"
     ]
    },
    {
     "name": "stderr",
     "output_type": "stream",
     "text": [
      "/opt/conda/lib/python3.7/site-packages/keras/utils/generic_utils.py:497: CustomMaskWarning: Custom mask layers require a config and must override get_config. When loading, the custom mask layer must be passed to the custom_objects argument.\n",
      "  category=CustomMaskWarning)\n"
     ]
    },
    {
     "name": "stdout",
     "output_type": "stream",
     "text": [
      "Epoch 9/150\n",
      "287/287 [==============================] - 126s 435ms/step - loss: 46.4704 - val_loss: 47.1151\n",
      "\n",
      "Epoch 00009: val_loss did not improve from 46.11071\n",
      "Epoch 10/150\n",
      "287/287 [==============================] - 125s 433ms/step - loss: 45.8654 - val_loss: 51.6090\n",
      "\n",
      "Epoch 00010: val_loss did not improve from 46.11071\n",
      "Epoch 11/150\n",
      "287/287 [==============================] - 126s 435ms/step - loss: 42.4052 - val_loss: 38.7534\n",
      "\n",
      "Epoch 00011: val_loss improved from 46.11071 to 38.75341, saving model to Checkpoint/cp.ckpt\n"
     ]
    },
    {
     "name": "stderr",
     "output_type": "stream",
     "text": [
      "/opt/conda/lib/python3.7/site-packages/keras/utils/generic_utils.py:497: CustomMaskWarning: Custom mask layers require a config and must override get_config. When loading, the custom mask layer must be passed to the custom_objects argument.\n",
      "  category=CustomMaskWarning)\n"
     ]
    },
    {
     "name": "stdout",
     "output_type": "stream",
     "text": [
      "Epoch 12/150\n",
      "287/287 [==============================] - 126s 436ms/step - loss: 43.5259 - val_loss: 45.0244\n",
      "\n",
      "Epoch 00012: val_loss did not improve from 38.75341\n",
      "Epoch 13/150\n",
      "287/287 [==============================] - 126s 435ms/step - loss: 42.2725 - val_loss: 47.3058\n",
      "\n",
      "Epoch 00013: val_loss did not improve from 38.75341\n",
      "Epoch 14/150\n",
      "287/287 [==============================] - 126s 435ms/step - loss: 38.4785 - val_loss: 41.0804\n",
      "\n",
      "Epoch 00014: val_loss did not improve from 38.75341\n",
      "Epoch 15/150\n",
      "287/287 [==============================] - 125s 434ms/step - loss: 36.3464 - val_loss: 34.0389\n",
      "\n",
      "Epoch 00015: val_loss improved from 38.75341 to 34.03891, saving model to Checkpoint/cp.ckpt\n"
     ]
    },
    {
     "name": "stderr",
     "output_type": "stream",
     "text": [
      "/opt/conda/lib/python3.7/site-packages/keras/utils/generic_utils.py:497: CustomMaskWarning: Custom mask layers require a config and must override get_config. When loading, the custom mask layer must be passed to the custom_objects argument.\n",
      "  category=CustomMaskWarning)\n"
     ]
    },
    {
     "name": "stdout",
     "output_type": "stream",
     "text": [
      "Epoch 16/150\n",
      "287/287 [==============================] - 126s 435ms/step - loss: 37.8327 - val_loss: 40.8041\n",
      "\n",
      "Epoch 00016: val_loss did not improve from 34.03891\n",
      "Epoch 17/150\n",
      "287/287 [==============================] - 125s 435ms/step - loss: 34.1511 - val_loss: 29.3780\n",
      "\n",
      "Epoch 00017: val_loss improved from 34.03891 to 29.37803, saving model to Checkpoint/cp.ckpt\n"
     ]
    },
    {
     "name": "stderr",
     "output_type": "stream",
     "text": [
      "/opt/conda/lib/python3.7/site-packages/keras/utils/generic_utils.py:497: CustomMaskWarning: Custom mask layers require a config and must override get_config. When loading, the custom mask layer must be passed to the custom_objects argument.\n",
      "  category=CustomMaskWarning)\n"
     ]
    },
    {
     "name": "stdout",
     "output_type": "stream",
     "text": [
      "Epoch 18/150\n",
      "287/287 [==============================] - 126s 435ms/step - loss: 32.9623 - val_loss: 28.7569\n",
      "\n",
      "Epoch 00018: val_loss improved from 29.37803 to 28.75690, saving model to Checkpoint/cp.ckpt\n"
     ]
    },
    {
     "name": "stderr",
     "output_type": "stream",
     "text": [
      "/opt/conda/lib/python3.7/site-packages/keras/utils/generic_utils.py:497: CustomMaskWarning: Custom mask layers require a config and must override get_config. When loading, the custom mask layer must be passed to the custom_objects argument.\n",
      "  category=CustomMaskWarning)\n"
     ]
    },
    {
     "name": "stdout",
     "output_type": "stream",
     "text": [
      "Epoch 19/150\n",
      "287/287 [==============================] - 126s 436ms/step - loss: 33.5565 - val_loss: 33.7567\n",
      "\n",
      "Epoch 00019: val_loss did not improve from 28.75690\n",
      "Epoch 20/150\n",
      "287/287 [==============================] - 126s 435ms/step - loss: 31.4749 - val_loss: 39.2412\n",
      "\n",
      "Epoch 00020: val_loss did not improve from 28.75690\n",
      "Epoch 21/150\n",
      "287/287 [==============================] - 125s 434ms/step - loss: 31.8831 - val_loss: 30.3549\n",
      "\n",
      "Epoch 00021: val_loss did not improve from 28.75690\n",
      "Epoch 22/150\n",
      "287/287 [==============================] - 126s 435ms/step - loss: 29.6141 - val_loss: 28.1791\n",
      "\n",
      "Epoch 00022: val_loss improved from 28.75690 to 28.17914, saving model to Checkpoint/cp.ckpt\n"
     ]
    },
    {
     "name": "stderr",
     "output_type": "stream",
     "text": [
      "/opt/conda/lib/python3.7/site-packages/keras/utils/generic_utils.py:497: CustomMaskWarning: Custom mask layers require a config and must override get_config. When loading, the custom mask layer must be passed to the custom_objects argument.\n",
      "  category=CustomMaskWarning)\n"
     ]
    },
    {
     "name": "stdout",
     "output_type": "stream",
     "text": [
      "Epoch 23/150\n",
      "287/287 [==============================] - 126s 435ms/step - loss: 31.8277 - val_loss: 26.1459\n",
      "\n",
      "Epoch 00023: val_loss improved from 28.17914 to 26.14591, saving model to Checkpoint/cp.ckpt\n"
     ]
    },
    {
     "name": "stderr",
     "output_type": "stream",
     "text": [
      "/opt/conda/lib/python3.7/site-packages/keras/utils/generic_utils.py:497: CustomMaskWarning: Custom mask layers require a config and must override get_config. When loading, the custom mask layer must be passed to the custom_objects argument.\n",
      "  category=CustomMaskWarning)\n"
     ]
    },
    {
     "name": "stdout",
     "output_type": "stream",
     "text": [
      "Epoch 24/150\n",
      "287/287 [==============================] - 126s 435ms/step - loss: 26.7329 - val_loss: 24.9974\n",
      "\n",
      "Epoch 00024: val_loss improved from 26.14591 to 24.99744, saving model to Checkpoint/cp.ckpt\n"
     ]
    },
    {
     "name": "stderr",
     "output_type": "stream",
     "text": [
      "/opt/conda/lib/python3.7/site-packages/keras/utils/generic_utils.py:497: CustomMaskWarning: Custom mask layers require a config and must override get_config. When loading, the custom mask layer must be passed to the custom_objects argument.\n",
      "  category=CustomMaskWarning)\n"
     ]
    },
    {
     "name": "stdout",
     "output_type": "stream",
     "text": [
      "Epoch 25/150\n",
      "287/287 [==============================] - 126s 436ms/step - loss: 29.0805 - val_loss: 34.6858\n",
      "\n",
      "Epoch 00025: val_loss did not improve from 24.99744\n",
      "Epoch 26/150\n",
      "287/287 [==============================] - 126s 436ms/step - loss: 27.2881 - val_loss: 30.9247\n",
      "\n",
      "Epoch 00026: val_loss did not improve from 24.99744\n",
      "Epoch 27/150\n",
      "287/287 [==============================] - 125s 434ms/step - loss: 27.8448 - val_loss: 31.2354\n",
      "\n",
      "Epoch 00027: val_loss did not improve from 24.99744\n",
      "Epoch 28/150\n",
      "287/287 [==============================] - 126s 435ms/step - loss: 24.3473 - val_loss: 23.9346\n",
      "\n",
      "Epoch 00028: val_loss improved from 24.99744 to 23.93460, saving model to Checkpoint/cp.ckpt\n"
     ]
    },
    {
     "name": "stderr",
     "output_type": "stream",
     "text": [
      "/opt/conda/lib/python3.7/site-packages/keras/utils/generic_utils.py:497: CustomMaskWarning: Custom mask layers require a config and must override get_config. When loading, the custom mask layer must be passed to the custom_objects argument.\n",
      "  category=CustomMaskWarning)\n"
     ]
    },
    {
     "name": "stdout",
     "output_type": "stream",
     "text": [
      "Epoch 29/150\n",
      "287/287 [==============================] - 126s 436ms/step - loss: 22.9176 - val_loss: 22.2133\n",
      "\n",
      "Epoch 00029: val_loss improved from 23.93460 to 22.21333, saving model to Checkpoint/cp.ckpt\n"
     ]
    },
    {
     "name": "stderr",
     "output_type": "stream",
     "text": [
      "/opt/conda/lib/python3.7/site-packages/keras/utils/generic_utils.py:497: CustomMaskWarning: Custom mask layers require a config and must override get_config. When loading, the custom mask layer must be passed to the custom_objects argument.\n",
      "  category=CustomMaskWarning)\n"
     ]
    },
    {
     "name": "stdout",
     "output_type": "stream",
     "text": [
      "Epoch 30/150\n",
      "287/287 [==============================] - 126s 436ms/step - loss: 20.7087 - val_loss: 21.6432\n",
      "\n",
      "Epoch 00030: val_loss improved from 22.21333 to 21.64321, saving model to Checkpoint/cp.ckpt\n"
     ]
    },
    {
     "name": "stderr",
     "output_type": "stream",
     "text": [
      "/opt/conda/lib/python3.7/site-packages/keras/utils/generic_utils.py:497: CustomMaskWarning: Custom mask layers require a config and must override get_config. When loading, the custom mask layer must be passed to the custom_objects argument.\n",
      "  category=CustomMaskWarning)\n"
     ]
    },
    {
     "name": "stdout",
     "output_type": "stream",
     "text": [
      "Epoch 31/150\n",
      "287/287 [==============================] - 126s 436ms/step - loss: 21.5801 - val_loss: 20.4791\n",
      "\n",
      "Epoch 00031: val_loss improved from 21.64321 to 20.47906, saving model to Checkpoint/cp.ckpt\n"
     ]
    },
    {
     "name": "stderr",
     "output_type": "stream",
     "text": [
      "/opt/conda/lib/python3.7/site-packages/keras/utils/generic_utils.py:497: CustomMaskWarning: Custom mask layers require a config and must override get_config. When loading, the custom mask layer must be passed to the custom_objects argument.\n",
      "  category=CustomMaskWarning)\n"
     ]
    },
    {
     "name": "stdout",
     "output_type": "stream",
     "text": [
      "Epoch 32/150\n",
      "287/287 [==============================] - 126s 436ms/step - loss: 21.2440 - val_loss: 19.5716\n",
      "\n",
      "Epoch 00032: val_loss improved from 20.47906 to 19.57161, saving model to Checkpoint/cp.ckpt\n"
     ]
    },
    {
     "name": "stderr",
     "output_type": "stream",
     "text": [
      "/opt/conda/lib/python3.7/site-packages/keras/utils/generic_utils.py:497: CustomMaskWarning: Custom mask layers require a config and must override get_config. When loading, the custom mask layer must be passed to the custom_objects argument.\n",
      "  category=CustomMaskWarning)\n"
     ]
    },
    {
     "name": "stdout",
     "output_type": "stream",
     "text": [
      "Epoch 33/150\n",
      "287/287 [==============================] - 126s 435ms/step - loss: 21.0190 - val_loss: 26.1874\n",
      "\n",
      "Epoch 00033: val_loss did not improve from 19.57161\n",
      "Epoch 34/150\n",
      "287/287 [==============================] - 126s 436ms/step - loss: 22.0629 - val_loss: 24.6805\n",
      "\n",
      "Epoch 00034: val_loss did not improve from 19.57161\n",
      "Epoch 35/150\n",
      "287/287 [==============================] - 125s 435ms/step - loss: 19.5454 - val_loss: 22.8337\n",
      "\n",
      "Epoch 00035: val_loss did not improve from 19.57161\n",
      "Epoch 36/150\n",
      "287/287 [==============================] - 125s 435ms/step - loss: 17.5979 - val_loss: 24.4362\n",
      "\n",
      "Epoch 00036: val_loss did not improve from 19.57161\n",
      "Epoch 37/150\n",
      "287/287 [==============================] - 126s 437ms/step - loss: 17.9410 - val_loss: 21.6164\n",
      "\n",
      "Epoch 00037: val_loss did not improve from 19.57161\n",
      "Epoch 38/150\n",
      "287/287 [==============================] - 126s 437ms/step - loss: 19.6296 - val_loss: 17.5626\n",
      "\n",
      "Epoch 00038: val_loss improved from 19.57161 to 17.56260, saving model to Checkpoint/cp.ckpt\n"
     ]
    },
    {
     "name": "stderr",
     "output_type": "stream",
     "text": [
      "/opt/conda/lib/python3.7/site-packages/keras/utils/generic_utils.py:497: CustomMaskWarning: Custom mask layers require a config and must override get_config. When loading, the custom mask layer must be passed to the custom_objects argument.\n",
      "  category=CustomMaskWarning)\n"
     ]
    },
    {
     "name": "stdout",
     "output_type": "stream",
     "text": [
      "Epoch 39/150\n",
      "287/287 [==============================] - 126s 436ms/step - loss: 19.7045 - val_loss: 16.9750\n",
      "\n",
      "Epoch 00039: val_loss improved from 17.56260 to 16.97498, saving model to Checkpoint/cp.ckpt\n"
     ]
    },
    {
     "name": "stderr",
     "output_type": "stream",
     "text": [
      "/opt/conda/lib/python3.7/site-packages/keras/utils/generic_utils.py:497: CustomMaskWarning: Custom mask layers require a config and must override get_config. When loading, the custom mask layer must be passed to the custom_objects argument.\n",
      "  category=CustomMaskWarning)\n"
     ]
    },
    {
     "name": "stdout",
     "output_type": "stream",
     "text": [
      "Epoch 40/150\n",
      "287/287 [==============================] - 126s 437ms/step - loss: 17.7141 - val_loss: 18.5296\n",
      "\n",
      "Epoch 00040: val_loss did not improve from 16.97498\n",
      "Epoch 41/150\n",
      "287/287 [==============================] - 126s 435ms/step - loss: 18.7231 - val_loss: 21.7257\n",
      "\n",
      "Epoch 00041: val_loss did not improve from 16.97498\n",
      "Epoch 42/150\n",
      "287/287 [==============================] - 126s 435ms/step - loss: 16.8666 - val_loss: 18.3297\n",
      "\n",
      "Epoch 00042: val_loss did not improve from 16.97498\n",
      "Epoch 43/150\n",
      "287/287 [==============================] - 125s 434ms/step - loss: 15.8146 - val_loss: 16.2395\n",
      "\n",
      "Epoch 00043: val_loss improved from 16.97498 to 16.23948, saving model to Checkpoint/cp.ckpt\n"
     ]
    },
    {
     "name": "stderr",
     "output_type": "stream",
     "text": [
      "/opt/conda/lib/python3.7/site-packages/keras/utils/generic_utils.py:497: CustomMaskWarning: Custom mask layers require a config and must override get_config. When loading, the custom mask layer must be passed to the custom_objects argument.\n",
      "  category=CustomMaskWarning)\n"
     ]
    },
    {
     "name": "stdout",
     "output_type": "stream",
     "text": [
      "Epoch 44/150\n",
      "287/287 [==============================] - 126s 435ms/step - loss: 15.2942 - val_loss: 21.7095\n",
      "\n",
      "Epoch 00044: val_loss did not improve from 16.23948\n",
      "Epoch 45/150\n",
      "287/287 [==============================] - 126s 436ms/step - loss: 15.9106 - val_loss: 15.7970\n",
      "\n",
      "Epoch 00045: val_loss improved from 16.23948 to 15.79700, saving model to Checkpoint/cp.ckpt\n"
     ]
    },
    {
     "name": "stderr",
     "output_type": "stream",
     "text": [
      "/opt/conda/lib/python3.7/site-packages/keras/utils/generic_utils.py:497: CustomMaskWarning: Custom mask layers require a config and must override get_config. When loading, the custom mask layer must be passed to the custom_objects argument.\n",
      "  category=CustomMaskWarning)\n"
     ]
    },
    {
     "name": "stdout",
     "output_type": "stream",
     "text": [
      "Epoch 46/150\n",
      "287/287 [==============================] - 125s 435ms/step - loss: 15.3143 - val_loss: 16.3930\n",
      "\n",
      "Epoch 00046: val_loss did not improve from 15.79700\n",
      "Epoch 47/150\n",
      "287/287 [==============================] - 126s 437ms/step - loss: 14.6418 - val_loss: 16.6731\n",
      "\n",
      "Epoch 00047: val_loss did not improve from 15.79700\n",
      "Epoch 48/150\n",
      "287/287 [==============================] - 125s 435ms/step - loss: 15.2361 - val_loss: 17.2985\n",
      "\n",
      "Epoch 00048: val_loss did not improve from 15.79700\n",
      "Epoch 49/150\n",
      "287/287 [==============================] - 126s 437ms/step - loss: 14.8107 - val_loss: 18.1959\n",
      "\n",
      "Epoch 00049: val_loss did not improve from 15.79700\n",
      "Epoch 50/150\n",
      "287/287 [==============================] - 126s 437ms/step - loss: 14.8039 - val_loss: 15.7280\n",
      "\n",
      "Epoch 00050: val_loss improved from 15.79700 to 15.72799, saving model to Checkpoint/cp.ckpt\n"
     ]
    },
    {
     "name": "stderr",
     "output_type": "stream",
     "text": [
      "/opt/conda/lib/python3.7/site-packages/keras/utils/generic_utils.py:497: CustomMaskWarning: Custom mask layers require a config and must override get_config. When loading, the custom mask layer must be passed to the custom_objects argument.\n",
      "  category=CustomMaskWarning)\n"
     ]
    },
    {
     "name": "stdout",
     "output_type": "stream",
     "text": [
      "Epoch 51/150\n",
      "287/287 [==============================] - 126s 435ms/step - loss: 14.2735 - val_loss: 18.3074\n",
      "\n",
      "Epoch 00051: val_loss did not improve from 15.72799\n",
      "Epoch 52/150\n",
      "287/287 [==============================] - 126s 436ms/step - loss: 14.6491 - val_loss: 16.4634\n",
      "\n",
      "Epoch 00052: val_loss did not improve from 15.72799\n",
      "Epoch 53/150\n",
      "287/287 [==============================] - 126s 436ms/step - loss: 16.1403 - val_loss: 15.6935\n",
      "\n",
      "Epoch 00053: val_loss improved from 15.72799 to 15.69350, saving model to Checkpoint/cp.ckpt\n"
     ]
    },
    {
     "name": "stderr",
     "output_type": "stream",
     "text": [
      "/opt/conda/lib/python3.7/site-packages/keras/utils/generic_utils.py:497: CustomMaskWarning: Custom mask layers require a config and must override get_config. When loading, the custom mask layer must be passed to the custom_objects argument.\n",
      "  category=CustomMaskWarning)\n"
     ]
    },
    {
     "name": "stdout",
     "output_type": "stream",
     "text": [
      "Epoch 54/150\n",
      "287/287 [==============================] - 126s 436ms/step - loss: 14.2505 - val_loss: 16.6022\n",
      "\n",
      "Epoch 00054: val_loss did not improve from 15.69350\n",
      "Epoch 55/150\n",
      "287/287 [==============================] - 126s 436ms/step - loss: 13.9416 - val_loss: 16.5188\n",
      "\n",
      "Epoch 00055: val_loss did not improve from 15.69350\n",
      "Epoch 56/150\n",
      "287/287 [==============================] - 126s 436ms/step - loss: 14.0699 - val_loss: 16.2926\n",
      "\n",
      "Epoch 00056: val_loss did not improve from 15.69350\n",
      "Epoch 57/150\n",
      "287/287 [==============================] - 126s 437ms/step - loss: 13.3180 - val_loss: 14.6562\n",
      "\n",
      "Epoch 00057: val_loss improved from 15.69350 to 14.65618, saving model to Checkpoint/cp.ckpt\n"
     ]
    },
    {
     "name": "stderr",
     "output_type": "stream",
     "text": [
      "/opt/conda/lib/python3.7/site-packages/keras/utils/generic_utils.py:497: CustomMaskWarning: Custom mask layers require a config and must override get_config. When loading, the custom mask layer must be passed to the custom_objects argument.\n",
      "  category=CustomMaskWarning)\n"
     ]
    },
    {
     "name": "stdout",
     "output_type": "stream",
     "text": [
      "Epoch 58/150\n",
      "287/287 [==============================] - 126s 436ms/step - loss: 13.2969 - val_loss: 14.7414\n",
      "\n",
      "Epoch 00058: val_loss did not improve from 14.65618\n",
      "Epoch 59/150\n",
      "287/287 [==============================] - 125s 434ms/step - loss: 12.6529 - val_loss: 17.0573\n",
      "\n",
      "Epoch 00059: val_loss did not improve from 14.65618\n",
      "Epoch 60/150\n",
      "287/287 [==============================] - 126s 436ms/step - loss: 13.4805 - val_loss: 13.8179\n",
      "\n",
      "Epoch 00060: val_loss improved from 14.65618 to 13.81786, saving model to Checkpoint/cp.ckpt\n"
     ]
    },
    {
     "name": "stderr",
     "output_type": "stream",
     "text": [
      "/opt/conda/lib/python3.7/site-packages/keras/utils/generic_utils.py:497: CustomMaskWarning: Custom mask layers require a config and must override get_config. When loading, the custom mask layer must be passed to the custom_objects argument.\n",
      "  category=CustomMaskWarning)\n"
     ]
    },
    {
     "name": "stdout",
     "output_type": "stream",
     "text": [
      "Epoch 61/150\n",
      "287/287 [==============================] - 126s 436ms/step - loss: 12.7837 - val_loss: 16.5352\n",
      "\n",
      "Epoch 00061: val_loss did not improve from 13.81786\n",
      "Epoch 62/150\n",
      "287/287 [==============================] - 126s 437ms/step - loss: 12.6454 - val_loss: 13.4370\n",
      "\n",
      "Epoch 00062: val_loss improved from 13.81786 to 13.43701, saving model to Checkpoint/cp.ckpt\n"
     ]
    },
    {
     "name": "stderr",
     "output_type": "stream",
     "text": [
      "/opt/conda/lib/python3.7/site-packages/keras/utils/generic_utils.py:497: CustomMaskWarning: Custom mask layers require a config and must override get_config. When loading, the custom mask layer must be passed to the custom_objects argument.\n",
      "  category=CustomMaskWarning)\n"
     ]
    },
    {
     "name": "stdout",
     "output_type": "stream",
     "text": [
      "Epoch 63/150\n",
      "287/287 [==============================] - 126s 436ms/step - loss: 13.0211 - val_loss: 16.8185\n",
      "\n",
      "Epoch 00063: val_loss did not improve from 13.43701\n",
      "Epoch 64/150\n",
      "287/287 [==============================] - 126s 436ms/step - loss: 13.2468 - val_loss: 26.8328\n",
      "\n",
      "Epoch 00064: val_loss did not improve from 13.43701\n",
      "Epoch 65/150\n",
      "287/287 [==============================] - 126s 436ms/step - loss: 12.5912 - val_loss: 16.0924\n",
      "\n",
      "Epoch 00065: val_loss did not improve from 13.43701\n",
      "Epoch 66/150\n",
      "287/287 [==============================] - 125s 435ms/step - loss: 13.1581 - val_loss: 16.4813\n",
      "\n",
      "Epoch 00066: val_loss did not improve from 13.43701\n",
      "Epoch 67/150\n",
      "287/287 [==============================] - 125s 435ms/step - loss: 11.7159 - val_loss: 14.9948\n",
      "\n",
      "Epoch 00067: val_loss did not improve from 13.43701\n",
      "Epoch 68/150\n",
      "287/287 [==============================] - 125s 434ms/step - loss: 12.3788 - val_loss: 14.4647\n",
      "\n",
      "Epoch 00068: val_loss did not improve from 13.43701\n",
      "Epoch 69/150\n",
      "287/287 [==============================] - 126s 436ms/step - loss: 11.5954 - val_loss: 16.3815\n",
      "\n",
      "Epoch 00069: val_loss did not improve from 13.43701\n",
      "Epoch 70/150\n",
      "287/287 [==============================] - 130s 450ms/step - loss: 12.0995 - val_loss: 13.8731\n",
      "\n",
      "Epoch 00070: val_loss did not improve from 13.43701\n",
      "Epoch 71/150\n",
      "287/287 [==============================] - 126s 436ms/step - loss: 11.7301 - val_loss: 13.9101\n",
      "\n",
      "Epoch 00071: val_loss did not improve from 13.43701\n",
      "Epoch 72/150\n",
      "287/287 [==============================] - 126s 436ms/step - loss: 11.7750 - val_loss: 15.0410\n",
      "\n",
      "Epoch 00072: val_loss did not improve from 13.43701\n",
      "Epoch 73/150\n",
      "287/287 [==============================] - 125s 435ms/step - loss: 11.5222 - val_loss: 17.4077\n",
      "\n",
      "Epoch 00073: val_loss did not improve from 13.43701\n",
      "Epoch 74/150\n",
      "287/287 [==============================] - 126s 437ms/step - loss: 11.8483 - val_loss: 13.9436\n",
      "\n",
      "Epoch 00074: val_loss did not improve from 13.43701\n",
      "Epoch 75/150\n",
      "287/287 [==============================] - 126s 436ms/step - loss: 11.8070 - val_loss: 15.8429\n",
      "\n",
      "Epoch 00075: val_loss did not improve from 13.43701\n",
      "Epoch 76/150\n",
      "287/287 [==============================] - 126s 436ms/step - loss: 12.7798 - val_loss: 13.5028\n",
      "\n",
      "Epoch 00076: val_loss did not improve from 13.43701\n",
      "Epoch 77/150\n",
      "287/287 [==============================] - 126s 436ms/step - loss: 11.7218 - val_loss: 16.8800\n",
      "\n",
      "Epoch 00077: val_loss did not improve from 13.43701\n",
      "Epoch 78/150\n",
      "287/287 [==============================] - 126s 437ms/step - loss: 12.1045 - val_loss: 16.7559\n",
      "\n",
      "Epoch 00078: val_loss did not improve from 13.43701\n",
      "Epoch 79/150\n",
      "287/287 [==============================] - 126s 439ms/step - loss: 11.0245 - val_loss: 13.3087\n",
      "\n",
      "Epoch 00079: val_loss improved from 13.43701 to 13.30867, saving model to Checkpoint/cp.ckpt\n"
     ]
    },
    {
     "name": "stderr",
     "output_type": "stream",
     "text": [
      "/opt/conda/lib/python3.7/site-packages/keras/utils/generic_utils.py:497: CustomMaskWarning: Custom mask layers require a config and must override get_config. When loading, the custom mask layer must be passed to the custom_objects argument.\n",
      "  category=CustomMaskWarning)\n"
     ]
    },
    {
     "name": "stdout",
     "output_type": "stream",
     "text": [
      "Epoch 80/150\n",
      "287/287 [==============================] - 126s 436ms/step - loss: 10.6871 - val_loss: 13.4949\n",
      "\n",
      "Epoch 00080: val_loss did not improve from 13.30867\n",
      "Epoch 81/150\n",
      "287/287 [==============================] - 125s 435ms/step - loss: 11.3596 - val_loss: 19.6165\n",
      "\n",
      "Epoch 00081: val_loss did not improve from 13.30867\n",
      "Epoch 82/150\n",
      "287/287 [==============================] - 125s 435ms/step - loss: 10.6531 - val_loss: 11.8963\n",
      "\n",
      "Epoch 00082: val_loss improved from 13.30867 to 11.89628, saving model to Checkpoint/cp.ckpt\n"
     ]
    },
    {
     "name": "stderr",
     "output_type": "stream",
     "text": [
      "/opt/conda/lib/python3.7/site-packages/keras/utils/generic_utils.py:497: CustomMaskWarning: Custom mask layers require a config and must override get_config. When loading, the custom mask layer must be passed to the custom_objects argument.\n",
      "  category=CustomMaskWarning)\n"
     ]
    },
    {
     "name": "stdout",
     "output_type": "stream",
     "text": [
      "Epoch 83/150\n",
      "287/287 [==============================] - 126s 436ms/step - loss: 10.3383 - val_loss: 12.3326\n",
      "\n",
      "Epoch 00083: val_loss did not improve from 11.89628\n",
      "Epoch 84/150\n",
      "287/287 [==============================] - 125s 435ms/step - loss: 12.3043 - val_loss: 15.2075\n",
      "\n",
      "Epoch 00084: val_loss did not improve from 11.89628\n",
      "Epoch 85/150\n",
      "287/287 [==============================] - 126s 435ms/step - loss: 10.7210 - val_loss: 13.0281\n",
      "\n",
      "Epoch 00085: val_loss did not improve from 11.89628\n",
      "Epoch 86/150\n",
      "287/287 [==============================] - 125s 435ms/step - loss: 10.3620 - val_loss: 15.6294\n",
      "\n",
      "Epoch 00086: val_loss did not improve from 11.89628\n",
      "Epoch 87/150\n",
      "287/287 [==============================] - 126s 435ms/step - loss: 10.2656 - val_loss: 15.0346\n",
      "\n",
      "Epoch 00087: val_loss did not improve from 11.89628\n",
      "Epoch 88/150\n",
      "287/287 [==============================] - 125s 435ms/step - loss: 9.8846 - val_loss: 12.1277\n",
      "\n",
      "Epoch 00088: val_loss did not improve from 11.89628\n",
      "Epoch 89/150\n",
      "287/287 [==============================] - 126s 436ms/step - loss: 11.1084 - val_loss: 13.8981\n",
      "\n",
      "Epoch 00089: val_loss did not improve from 11.89628\n",
      "Epoch 90/150\n",
      "287/287 [==============================] - 126s 436ms/step - loss: 9.9886 - val_loss: 12.5640\n",
      "\n",
      "Epoch 00090: val_loss did not improve from 11.89628\n",
      "Epoch 91/150\n",
      "287/287 [==============================] - 126s 436ms/step - loss: 9.4477 - val_loss: 15.4017\n",
      "\n",
      "Epoch 00091: val_loss did not improve from 11.89628\n",
      "Epoch 92/150\n",
      "287/287 [==============================] - 126s 435ms/step - loss: 9.8466 - val_loss: 12.4967\n",
      "\n",
      "Epoch 00092: val_loss did not improve from 11.89628\n",
      "Epoch 93/150\n",
      "287/287 [==============================] - 130s 450ms/step - loss: 10.0985 - val_loss: 12.7919\n",
      "\n",
      "Epoch 00093: val_loss did not improve from 11.89628\n",
      "Epoch 94/150\n",
      "287/287 [==============================] - 125s 435ms/step - loss: 10.6122 - val_loss: 13.5331\n",
      "\n",
      "Epoch 00094: val_loss did not improve from 11.89628\n",
      "Epoch 95/150\n",
      "287/287 [==============================] - 125s 435ms/step - loss: 9.4803 - val_loss: 13.7567\n",
      "\n",
      "Epoch 00095: val_loss did not improve from 11.89628\n",
      "Epoch 96/150\n",
      "287/287 [==============================] - 125s 435ms/step - loss: 9.4995 - val_loss: 12.7223\n",
      "\n",
      "Epoch 00096: val_loss did not improve from 11.89628\n",
      "Epoch 97/150\n",
      "287/287 [==============================] - 126s 436ms/step - loss: 9.8396 - val_loss: 14.4855\n",
      "\n",
      "Epoch 00097: val_loss did not improve from 11.89628\n",
      "Epoch 98/150\n",
      "287/287 [==============================] - 126s 436ms/step - loss: 10.3786 - val_loss: 13.1743\n",
      "\n",
      "Epoch 00098: val_loss did not improve from 11.89628\n",
      "Epoch 99/150\n",
      "287/287 [==============================] - 129s 449ms/step - loss: 9.6404 - val_loss: 11.7253\n",
      "\n",
      "Epoch 00099: val_loss improved from 11.89628 to 11.72530, saving model to Checkpoint/cp.ckpt\n"
     ]
    },
    {
     "name": "stderr",
     "output_type": "stream",
     "text": [
      "/opt/conda/lib/python3.7/site-packages/keras/utils/generic_utils.py:497: CustomMaskWarning: Custom mask layers require a config and must override get_config. When loading, the custom mask layer must be passed to the custom_objects argument.\n",
      "  category=CustomMaskWarning)\n"
     ]
    },
    {
     "name": "stdout",
     "output_type": "stream",
     "text": [
      "Epoch 100/150\n",
      "287/287 [==============================] - 125s 435ms/step - loss: 9.0637 - val_loss: 13.7229\n",
      "\n",
      "Epoch 00100: val_loss did not improve from 11.72530\n",
      "Epoch 101/150\n",
      "287/287 [==============================] - 126s 435ms/step - loss: 9.7702 - val_loss: 11.2006\n",
      "\n",
      "Epoch 00101: val_loss improved from 11.72530 to 11.20062, saving model to Checkpoint/cp.ckpt\n"
     ]
    },
    {
     "name": "stderr",
     "output_type": "stream",
     "text": [
      "/opt/conda/lib/python3.7/site-packages/keras/utils/generic_utils.py:497: CustomMaskWarning: Custom mask layers require a config and must override get_config. When loading, the custom mask layer must be passed to the custom_objects argument.\n",
      "  category=CustomMaskWarning)\n"
     ]
    },
    {
     "name": "stdout",
     "output_type": "stream",
     "text": [
      "Epoch 102/150\n",
      "287/287 [==============================] - 125s 435ms/step - loss: 9.9666 - val_loss: 20.3750\n",
      "\n",
      "Epoch 00102: val_loss did not improve from 11.20062\n",
      "Epoch 103/150\n",
      "287/287 [==============================] - 126s 435ms/step - loss: 9.6287 - val_loss: 12.3278\n",
      "\n",
      "Epoch 00103: val_loss did not improve from 11.20062\n",
      "Epoch 104/150\n",
      "287/287 [==============================] - 126s 435ms/step - loss: 9.2784 - val_loss: 12.5470\n",
      "\n",
      "Epoch 00104: val_loss did not improve from 11.20062\n",
      "Epoch 105/150\n",
      "287/287 [==============================] - 125s 435ms/step - loss: 9.2727 - val_loss: 12.2114\n",
      "\n",
      "Epoch 00105: val_loss did not improve from 11.20062\n",
      "Epoch 106/150\n",
      "287/287 [==============================] - 126s 435ms/step - loss: 8.4635 - val_loss: 17.8117\n",
      "\n",
      "Epoch 00106: val_loss did not improve from 11.20062\n",
      "Epoch 107/150\n",
      "287/287 [==============================] - 125s 434ms/step - loss: 9.1985 - val_loss: 16.6880\n",
      "\n",
      "Epoch 00107: val_loss did not improve from 11.20062\n",
      "Epoch 108/150\n",
      "287/287 [==============================] - 125s 436ms/step - loss: 9.1762 - val_loss: 12.3476\n",
      "\n",
      "Epoch 00108: val_loss did not improve from 11.20062\n",
      "Epoch 109/150\n",
      "287/287 [==============================] - 125s 435ms/step - loss: 9.3709 - val_loss: 11.9770\n",
      "\n",
      "Epoch 00109: val_loss did not improve from 11.20062\n",
      "Epoch 110/150\n",
      "287/287 [==============================] - 126s 436ms/step - loss: 9.0242 - val_loss: 13.6239\n",
      "\n",
      "Epoch 00110: val_loss did not improve from 11.20062\n",
      "Epoch 111/150\n",
      "287/287 [==============================] - 125s 435ms/step - loss: 8.5011 - val_loss: 10.5071\n",
      "\n",
      "Epoch 00111: val_loss improved from 11.20062 to 10.50713, saving model to Checkpoint/cp.ckpt\n"
     ]
    },
    {
     "name": "stderr",
     "output_type": "stream",
     "text": [
      "/opt/conda/lib/python3.7/site-packages/keras/utils/generic_utils.py:497: CustomMaskWarning: Custom mask layers require a config and must override get_config. When loading, the custom mask layer must be passed to the custom_objects argument.\n",
      "  category=CustomMaskWarning)\n"
     ]
    },
    {
     "name": "stdout",
     "output_type": "stream",
     "text": [
      "Epoch 112/150\n",
      "287/287 [==============================] - 126s 436ms/step - loss: 9.0074 - val_loss: 11.1613\n",
      "\n",
      "Epoch 00112: val_loss did not improve from 10.50713\n",
      "Epoch 113/150\n",
      "287/287 [==============================] - 125s 435ms/step - loss: 8.2148 - val_loss: 12.1129\n",
      "\n",
      "Epoch 00113: val_loss did not improve from 10.50713\n",
      "Epoch 114/150\n",
      "287/287 [==============================] - 125s 435ms/step - loss: 8.5071 - val_loss: 13.5495\n",
      "\n",
      "Epoch 00114: val_loss did not improve from 10.50713\n",
      "Epoch 115/150\n",
      "287/287 [==============================] - 125s 435ms/step - loss: 8.5943 - val_loss: 11.8073\n",
      "\n",
      "Epoch 00115: val_loss did not improve from 10.50713\n",
      "Epoch 116/150\n",
      "287/287 [==============================] - 125s 435ms/step - loss: 9.2971 - val_loss: 12.4941\n",
      "\n",
      "Epoch 00116: val_loss did not improve from 10.50713\n",
      "Epoch 117/150\n",
      "287/287 [==============================] - 125s 435ms/step - loss: 8.5816 - val_loss: 11.2047\n",
      "\n",
      "Epoch 00117: val_loss did not improve from 10.50713\n",
      "Epoch 118/150\n",
      "287/287 [==============================] - 125s 435ms/step - loss: 8.7422 - val_loss: 16.0558\n",
      "\n",
      "Epoch 00118: val_loss did not improve from 10.50713\n",
      "Epoch 119/150\n",
      "287/287 [==============================] - 126s 436ms/step - loss: 8.4758 - val_loss: 10.5484\n",
      "\n",
      "Epoch 00119: val_loss did not improve from 10.50713\n",
      "Epoch 120/150\n",
      "287/287 [==============================] - 126s 436ms/step - loss: 8.2262 - val_loss: 12.3946\n",
      "\n",
      "Epoch 00120: val_loss did not improve from 10.50713\n",
      "Epoch 121/150\n",
      "287/287 [==============================] - 126s 436ms/step - loss: 8.9034 - val_loss: 12.2152\n",
      "\n",
      "Epoch 00121: val_loss did not improve from 10.50713\n",
      "Epoch 122/150\n",
      "287/287 [==============================] - 125s 435ms/step - loss: 8.5631 - val_loss: 11.5891\n",
      "\n",
      "Epoch 00122: val_loss did not improve from 10.50713\n",
      "Epoch 123/150\n",
      "287/287 [==============================] - 125s 435ms/step - loss: 9.0860 - val_loss: 10.4713\n",
      "\n",
      "Epoch 00123: val_loss improved from 10.50713 to 10.47127, saving model to Checkpoint/cp.ckpt\n"
     ]
    },
    {
     "name": "stderr",
     "output_type": "stream",
     "text": [
      "/opt/conda/lib/python3.7/site-packages/keras/utils/generic_utils.py:497: CustomMaskWarning: Custom mask layers require a config and must override get_config. When loading, the custom mask layer must be passed to the custom_objects argument.\n",
      "  category=CustomMaskWarning)\n"
     ]
    },
    {
     "name": "stdout",
     "output_type": "stream",
     "text": [
      "Epoch 124/150\n",
      "287/287 [==============================] - 126s 435ms/step - loss: 8.2567 - val_loss: 14.9509\n",
      "\n",
      "Epoch 00124: val_loss did not improve from 10.47127\n",
      "Epoch 125/150\n",
      "287/287 [==============================] - 125s 435ms/step - loss: 8.6698 - val_loss: 10.4365\n",
      "\n",
      "Epoch 00125: val_loss improved from 10.47127 to 10.43646, saving model to Checkpoint/cp.ckpt\n"
     ]
    },
    {
     "name": "stderr",
     "output_type": "stream",
     "text": [
      "/opt/conda/lib/python3.7/site-packages/keras/utils/generic_utils.py:497: CustomMaskWarning: Custom mask layers require a config and must override get_config. When loading, the custom mask layer must be passed to the custom_objects argument.\n",
      "  category=CustomMaskWarning)\n"
     ]
    },
    {
     "name": "stdout",
     "output_type": "stream",
     "text": [
      "Epoch 126/150\n",
      "287/287 [==============================] - 126s 435ms/step - loss: 8.2966 - val_loss: 13.8034\n",
      "\n",
      "Epoch 00126: val_loss did not improve from 10.43646\n",
      "Epoch 127/150\n",
      "287/287 [==============================] - 125s 435ms/step - loss: 8.4183 - val_loss: 10.8338\n",
      "\n",
      "Epoch 00127: val_loss did not improve from 10.43646\n",
      "Epoch 128/150\n",
      "287/287 [==============================] - 125s 435ms/step - loss: 7.7702 - val_loss: 11.0595\n",
      "\n",
      "Epoch 00128: val_loss did not improve from 10.43646\n",
      "Epoch 129/150\n",
      "287/287 [==============================] - 126s 435ms/step - loss: 7.9691 - val_loss: 15.2310\n",
      "\n",
      "Epoch 00129: val_loss did not improve from 10.43646\n",
      "Epoch 130/150\n",
      "287/287 [==============================] - 126s 436ms/step - loss: 7.9472 - val_loss: 11.7616\n",
      "\n",
      "Epoch 00130: val_loss did not improve from 10.43646\n",
      "Epoch 131/150\n",
      "287/287 [==============================] - 126s 436ms/step - loss: 8.3948 - val_loss: 11.3946\n",
      "\n",
      "Epoch 00131: val_loss did not improve from 10.43646\n",
      "Epoch 132/150\n",
      "287/287 [==============================] - 126s 436ms/step - loss: 8.6053 - val_loss: 11.8334\n",
      "\n",
      "Epoch 00132: val_loss did not improve from 10.43646\n",
      "Epoch 133/150\n",
      "287/287 [==============================] - 126s 436ms/step - loss: 8.1945 - val_loss: 11.1087\n",
      "\n",
      "Epoch 00133: val_loss did not improve from 10.43646\n",
      "Epoch 134/150\n",
      "287/287 [==============================] - 126s 435ms/step - loss: 7.8577 - val_loss: 10.8477\n",
      "\n",
      "Epoch 00134: val_loss did not improve from 10.43646\n",
      "Epoch 135/150\n",
      "287/287 [==============================] - 126s 436ms/step - loss: 7.7362 - val_loss: 13.8185\n",
      "\n",
      "Epoch 00135: val_loss did not improve from 10.43646\n",
      "Epoch 136/150\n",
      "287/287 [==============================] - 125s 435ms/step - loss: 7.6961 - val_loss: 11.6014\n",
      "\n",
      "Epoch 00136: val_loss did not improve from 10.43646\n",
      "Epoch 137/150\n",
      "287/287 [==============================] - 125s 435ms/step - loss: 7.6786 - val_loss: 11.3465\n",
      "\n",
      "Epoch 00137: val_loss did not improve from 10.43646\n",
      "Epoch 138/150\n",
      "287/287 [==============================] - 125s 435ms/step - loss: 7.4124 - val_loss: 10.2071\n",
      "\n",
      "Epoch 00138: val_loss improved from 10.43646 to 10.20713, saving model to Checkpoint/cp.ckpt\n"
     ]
    },
    {
     "name": "stderr",
     "output_type": "stream",
     "text": [
      "/opt/conda/lib/python3.7/site-packages/keras/utils/generic_utils.py:497: CustomMaskWarning: Custom mask layers require a config and must override get_config. When loading, the custom mask layer must be passed to the custom_objects argument.\n",
      "  category=CustomMaskWarning)\n"
     ]
    },
    {
     "name": "stdout",
     "output_type": "stream",
     "text": [
      "Epoch 139/150\n",
      "287/287 [==============================] - 126s 435ms/step - loss: 8.1208 - val_loss: 11.9683\n",
      "\n",
      "Epoch 00139: val_loss did not improve from 10.20713\n",
      "Epoch 140/150\n",
      "287/287 [==============================] - 126s 436ms/step - loss: 8.0051 - val_loss: 13.3897\n",
      "\n",
      "Epoch 00140: val_loss did not improve from 10.20713\n",
      "Epoch 141/150\n",
      "287/287 [==============================] - 125s 434ms/step - loss: 7.7831 - val_loss: 11.0878\n",
      "\n",
      "Epoch 00141: val_loss did not improve from 10.20713\n",
      "Epoch 142/150\n",
      "287/287 [==============================] - 125s 435ms/step - loss: 8.1117 - val_loss: 13.0699\n",
      "\n",
      "Epoch 00142: val_loss did not improve from 10.20713\n",
      "Epoch 143/150\n",
      "287/287 [==============================] - 126s 437ms/step - loss: 7.6716 - val_loss: 11.0614\n",
      "\n",
      "Epoch 00143: val_loss did not improve from 10.20713\n",
      "Epoch 144/150\n",
      "287/287 [==============================] - 125s 436ms/step - loss: 7.2804 - val_loss: 10.0071\n",
      "\n",
      "Epoch 00144: val_loss improved from 10.20713 to 10.00709, saving model to Checkpoint/cp.ckpt\n"
     ]
    },
    {
     "name": "stderr",
     "output_type": "stream",
     "text": [
      "/opt/conda/lib/python3.7/site-packages/keras/utils/generic_utils.py:497: CustomMaskWarning: Custom mask layers require a config and must override get_config. When loading, the custom mask layer must be passed to the custom_objects argument.\n",
      "  category=CustomMaskWarning)\n"
     ]
    },
    {
     "name": "stdout",
     "output_type": "stream",
     "text": [
      "Epoch 145/150\n",
      "287/287 [==============================] - 130s 450ms/step - loss: 7.5575 - val_loss: 11.0086\n",
      "\n",
      "Epoch 00145: val_loss did not improve from 10.00709\n",
      "Epoch 146/150\n",
      "287/287 [==============================] - 125s 435ms/step - loss: 7.3529 - val_loss: 14.1253\n",
      "\n",
      "Epoch 00146: val_loss did not improve from 10.00709\n",
      "Epoch 147/150\n",
      "287/287 [==============================] - 125s 434ms/step - loss: 8.3371 - val_loss: 13.6806\n",
      "\n",
      "Epoch 00147: val_loss did not improve from 10.00709\n",
      "Epoch 148/150\n",
      "287/287 [==============================] - 126s 436ms/step - loss: 7.6299 - val_loss: 13.1380\n",
      "\n",
      "Epoch 00148: val_loss did not improve from 10.00709\n",
      "Epoch 149/150\n",
      "287/287 [==============================] - 125s 435ms/step - loss: 7.1591 - val_loss: 10.0317\n",
      "\n",
      "Epoch 00149: val_loss did not improve from 10.00709\n",
      "Epoch 150/150\n",
      "287/287 [==============================] - 125s 435ms/step - loss: 8.1099 - val_loss: 12.5485\n",
      "\n",
      "Epoch 00150: val_loss did not improve from 10.00709\n"
     ]
    }
   ],
   "source": [
    "history = autoencoder.fit(tds,\n",
    "                epochs=150,\n",
    "                shuffle=True,\n",
    "                callbacks=[checkpoint],\n",
    "                validation_data=vds)"
   ]
  },
  {
   "cell_type": "code",
   "execution_count": 22,
   "id": "3183f646",
   "metadata": {
    "execution": {
     "iopub.execute_input": "2022-02-23T01:17:16.525550Z",
     "iopub.status.busy": "2022-02-23T01:17:16.524601Z",
     "iopub.status.idle": "2022-02-23T01:17:18.023049Z",
     "shell.execute_reply": "2022-02-23T01:17:18.023670Z",
     "shell.execute_reply.started": "2022-02-22T19:06:20.110174Z"
    },
    "papermill": {
     "duration": 15.418654,
     "end_time": "2022-02-23T01:17:18.023823",
     "exception": false,
     "start_time": "2022-02-23T01:17:02.605169",
     "status": "completed"
    },
    "tags": []
   },
   "outputs": [
    {
     "name": "stderr",
     "output_type": "stream",
     "text": [
      "2022-02-23 01:17:17.489166: W tensorflow/core/util/tensor_slice_reader.cc:95] Could not open ./Checkpoint/cp.ckpt: Failed precondition: Checkpoint/cp.ckpt; Is a directory: perhaps your file is in a different file format and you need to use a different restore operator?\n"
     ]
    },
    {
     "data": {
      "text/plain": [
       "<tensorflow.python.training.tracking.util.CheckpointLoadStatus at 0x7f505e7707d0>"
      ]
     },
     "execution_count": 22,
     "metadata": {},
     "output_type": "execute_result"
    }
   ],
   "source": [
    "new_model = Autoencoder()\n",
    "new_model.load_weights(\"./Checkpoint/cp.ckpt\")"
   ]
  },
  {
   "cell_type": "code",
   "execution_count": 23,
   "id": "6a7f0be2",
   "metadata": {
    "execution": {
     "iopub.execute_input": "2022-02-23T01:17:45.962774Z",
     "iopub.status.busy": "2022-02-23T01:17:45.961165Z",
     "iopub.status.idle": "2022-02-23T01:17:45.963368Z",
     "shell.execute_reply": "2022-02-23T01:17:45.963774Z",
     "shell.execute_reply.started": "2022-02-22T19:06:22.601798Z"
    },
    "papermill": {
     "duration": 13.799914,
     "end_time": "2022-02-23T01:17:45.963908",
     "exception": false,
     "start_time": "2022-02-23T01:17:32.163994",
     "status": "completed"
    },
    "tags": []
   },
   "outputs": [],
   "source": [
    "l = history.history.keys()\n",
    "metrics = list(l)\n",
    "df = pd.DataFrame(history.history)"
   ]
  },
  {
   "cell_type": "code",
   "execution_count": 24,
   "id": "64979836",
   "metadata": {
    "execution": {
     "iopub.execute_input": "2022-02-23T01:18:14.092082Z",
     "iopub.status.busy": "2022-02-23T01:18:14.091420Z",
     "iopub.status.idle": "2022-02-23T01:18:14.376668Z",
     "shell.execute_reply": "2022-02-23T01:18:14.376172Z",
     "shell.execute_reply.started": "2022-02-22T19:06:22.610587Z"
    },
    "papermill": {
     "duration": 14.001263,
     "end_time": "2022-02-23T01:18:14.376788",
     "exception": false,
     "start_time": "2022-02-23T01:18:00.375525",
     "status": "completed"
    },
    "tags": []
   },
   "outputs": [
    {
     "data": {
      "image/png": "[encoded data removed]",
      "text/plain": [
       "<Figure size 864x576 with 1 Axes>"
      ]
     },
     "metadata": {
      "needs_background": "light"
     },
     "output_type": "display_data"
    }
   ],
   "source": [
    "for i in range(len(l)//2):\n",
    "    tr = metrics[i]\n",
    "    val = \"val_\" + tr\n",
    "    df_pl= df[[tr,val]]\n",
    "    df_pl.rename(columns={tr:'Train',val:'Validation'},inplace=True)\n",
    "    df_pl.plot(title='Model '+tr,figsize=(12,8)).set(xlabel='Epoch',ylabel=tr)\n"
   ]
  },
  {
   "cell_type": "markdown",
   "id": "67ed54b7",
   "metadata": {
    "papermill": {
     "duration": 14.048581,
     "end_time": "2022-02-23T01:18:42.713851",
     "exception": false,
     "start_time": "2022-02-23T01:18:28.665270",
     "status": "completed"
    },
    "tags": []
   },
   "source": [
    "Let's try the model on a single example"
   ]
  },
  {
   "cell_type": "code",
   "execution_count": 25,
   "id": "e0c03521",
   "metadata": {
    "execution": {
     "iopub.execute_input": "2022-02-23T01:19:10.749482Z",
     "iopub.status.busy": "2022-02-23T01:19:10.748611Z",
     "iopub.status.idle": "2022-02-23T01:19:12.585141Z",
     "shell.execute_reply": "2022-02-23T01:19:12.585704Z",
     "shell.execute_reply.started": "2022-02-22T19:08:46.254440Z"
    },
    "papermill": {
     "duration": 15.589176,
     "end_time": "2022-02-23T01:19:12.585867",
     "exception": false,
     "start_time": "2022-02-23T01:18:56.996691",
     "status": "completed"
    },
    "tags": []
   },
   "outputs": [
    {
     "data": {
      "text/plain": [
       "<matplotlib.image.AxesImage at 0x7f505ed399d0>"
      ]
     },
     "execution_count": 25,
     "metadata": {},
     "output_type": "execute_result"
    },
    {
     "data": {
      "image/png": "[encoded data removed]",
      "text/plain": [
       "<Figure size 432x288 with 1 Axes>"
      ]
     },
     "metadata": {
      "needs_background": "light"
     },
     "output_type": "display_data"
    }
   ],
   "source": [
    "img = cv2.imread(\"/tmp/normal/Normal-1.png\", 1)\n",
    "img = cv2.resize(img, (224,224), interpolation=cv2.INTER_CUBIC)\n",
    "img_list = []\n",
    "img_list.append(np.array(img))\n",
    "x = np.asarray(img_list)\n",
    "recon = new_model.predict(x)\n",
    "plt.imshow(recon[0])"
   ]
  },
  {
   "cell_type": "code",
   "execution_count": 26,
   "id": "650f4918",
   "metadata": {
    "execution": {
     "iopub.execute_input": "2022-02-23T01:19:41.134404Z",
     "iopub.status.busy": "2022-02-23T01:19:41.132994Z",
     "iopub.status.idle": "2022-02-23T01:19:41.137703Z",
     "shell.execute_reply": "2022-02-23T01:19:41.138104Z",
     "shell.execute_reply.started": "2022-02-22T19:06:48.328194Z"
    },
    "papermill": {
     "duration": 14.313602,
     "end_time": "2022-02-23T01:19:41.138238",
     "exception": false,
     "start_time": "2022-02-23T01:19:26.824636",
     "status": "completed"
    },
    "tags": []
   },
   "outputs": [
    {
     "data": {
      "text/plain": [
       "32.19795"
      ]
     },
     "execution_count": 26,
     "metadata": {},
     "output_type": "execute_result"
    }
   ],
   "source": [
    "diff = recon - x\n",
    "np.average(diff)"
   ]
  },
  {
   "cell_type": "code",
   "execution_count": null,
   "id": "e3c07c9d",
   "metadata": {
    "papermill": {
     "duration": 14.253113,
     "end_time": "2022-02-23T01:20:09.192810",
     "exception": false,
     "start_time": "2022-02-23T01:19:54.939697",
     "status": "completed"
    },
    "tags": []
   },
   "outputs": [],
   "source": []
  }
 ],
 "metadata": {
  "kernelspec": {
   "display_name": "Python 3",
   "language": "python",
   "name": "python3"
  },
  "language_info": {
   "codemirror_mode": {
    "name": "ipython",
    "version": 3
   },
   "file_extension": ".py",
   "mimetype": "text/x-python",
   "name": "python",
   "nbconvert_exporter": "python",
   "pygments_lexer": "ipython3",
   "version": "3.7.12"
  },
  "papermill": {
   "default_parameters": {},
   "duration": 22258.695626,
   "end_time": "2022-02-23T01:20:27.036225",
   "environment_variables": {},
   "exception": null,
   "input_path": "__notebook__.ipynb",
   "output_path": "__notebook__.ipynb",
   "parameters": {},
   "start_time": "2022-02-22T19:09:28.340599",
   "version": "2.3.3"
  }
 },
 "nbformat": 4,
 "nbformat_minor": 5
}
